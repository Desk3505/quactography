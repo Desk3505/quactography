{
 "cells": [
  {
   "cell_type": "code",
   "execution_count": 33,
   "metadata": {},
   "outputs": [
    {
     "name": "stdout",
     "output_type": "stream",
     "text": [
      "[[0. 3. 2. 3.]\n",
      " [3. 0. 2. 1.]\n",
      " [2. 2. 0. 3.]\n",
      " [3. 1. 3. 0.]]\n",
      "[0, 0, 0, 1, 1, 2]\n",
      "[1, 2, 3, 2, 3, 3]\n",
      "[array([3., 2., 3., 2., 1., 3.])]\n",
      "[0, 1, 2, 3, 4, 5]\n"
     ]
    }
   ],
   "source": [
    "import numpy as np \n",
    "import sys\n",
    "\n",
    "sys.path.append(r\"C:\\Users\\harsh\\quactography\")\n",
    "\n",
    "from quactography.graph.undirected_graph import Graph \n",
    "from quactography.adj_matrix.io import load_graph \n",
    "\n",
    "my_graph = load_graph(\"rand_graph.npz\")\n",
    "my_graph_class = Graph(my_graph[0], 1,3)\n",
    "print(my_graph[0])\n",
    "print(my_graph_class.starting_nodes)\n",
    "print(my_graph_class.ending_nodes)\n",
    "print(my_graph_class.weights)\n",
    "print(my_graph_class.q_indices)"
   ]
  },
  {
   "cell_type": "markdown",
   "metadata": {},
   "source": [
    "#### En ce qui concerne l'Hamiltonien sur ce graphe en prenant les qubits comme étant les noeuds, on aurait le coût obligatoire: \n",
    "\n",
    "$$\n",
    "    \\sum_{<i,j>} w_{ij} (\\frac{I-Z_i}{2}) (\\frac{I-Z_j}{2})\\\\\n",
    "    \\ \\frac{1}{4} \\sum_{<i,j>} w_{ij} (I - Z_i - Z_j + Z_i Z_j)\n",
    "    \n",
    "$$\n",
    "\n"
   ]
  },
  {
   "cell_type": "code",
   "execution_count": 51,
   "metadata": {},
   "outputs": [
    {
     "name": "stdout",
     "output_type": "stream",
     "text": [
      "0 1\n",
      "1 2\n",
      "2 3\n",
      "3 2\n",
      "4 3\n",
      "5 3\n"
     ]
    },
    {
     "data": {
      "text/plain": [
       "SparsePauliOp(['IIIIII', 'IIIIZI', 'IIIZII', 'IIZIII', 'IIIZII', 'IIZIII', 'IIZIII', 'IIIIIZ', 'IIIIIZ', 'IIIIIZ', 'IIIIZI', 'IIIIZI', 'IIIZII'],\n",
       "              coeffs=[ 3.5 +0.j, -0.75+0.j, -0.5 +0.j, -0.75+0.j, -0.5 +0.j, -0.25+0.j,\n",
       " -0.75+0.j, -0.75+0.j, -0.5 +0.j, -0.75+0.j, -0.5 +0.j, -0.25+0.j,\n",
       " -0.75+0.j])"
      ]
     },
     "execution_count": 51,
     "metadata": {},
     "output_type": "execute_result"
    }
   ],
   "source": [
    "from qiskit.quantum_info import SparsePauliOp\n",
    "pauli_weight_first_term = [\n",
    "            (\"I\" * my_graph_class.number_of_edges, my_graph_class.all_weights_sum / 4)\n",
    "        ]\n",
    "\n",
    "for pos, node in enumerate(my_graph_class.ending_nodes):\n",
    "    print(pos,node)\n",
    "    str1 = (\n",
    "        \"I\" * (my_graph_class.number_of_edges - 1 - node) + \"Z\" + \"I\" * node, \n",
    "        -my_graph_class.weights[0][pos]/4 \n",
    "    )\n",
    "    pauli_weight_first_term.append(str1)\n",
    "for pos, node in enumerate(my_graph_class.starting_nodes):\n",
    "    str2 = (\n",
    "    \"I\" * (my_graph_class.number_of_edges - 1 - node) + \"Z\" + \"I\" * node, \n",
    "    -my_graph_class.weights[0][pos]/4 \n",
    "    )\n",
    "    pauli_weight_first_term.append(str2)\n",
    "    \n",
    "mandatory_cost_h = SparsePauliOp.from_list(pauli_weight_first_term)\n",
    "mandatory_cost_h"
   ]
  }
 ],
 "metadata": {
  "kernelspec": {
   "display_name": "stageT2",
   "language": "python",
   "name": "python3"
  },
  "language_info": {
   "codemirror_mode": {
    "name": "ipython",
    "version": 3
   },
   "file_extension": ".py",
   "mimetype": "text/x-python",
   "name": "python",
   "nbconvert_exporter": "python",
   "pygments_lexer": "ipython3",
   "version": "3.11.5"
  }
 },
 "nbformat": 4,
 "nbformat_minor": 2
}
