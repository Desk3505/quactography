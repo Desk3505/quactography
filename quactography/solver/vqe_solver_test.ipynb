{
 "cells": [
  {
   "cell_type": "code",
   "execution_count": 2,
   "metadata": {},
   "outputs": [],
   "source": [
    "# General imports\n",
    "import numpy as np\n",
    "\n",
    "# Pre-defined ansatz circuit and operator class for Hamiltonian\n",
    "from qiskit.circuit.library import EfficientSU2\n",
    "from qiskit.quantum_info import SparsePauliOp\n",
    "\n",
    "# SciPy minimizer routine\n",
    "from scipy.optimize import minimize\n",
    "\n",
    "# Plotting functions\n",
    "import matplotlib.pyplot as plt"
   ]
  },
  {
   "cell_type": "code",
   "execution_count": 3,
   "metadata": {},
   "outputs": [],
   "source": [
    "# runtime imports\n",
    "from qiskit_ibm_runtime import QiskitRuntimeService, Session\n",
    "from qiskit_ibm_runtime import EstimatorV2 as Estimator\n",
    "\n",
    "# To run on hardware, select the backend with the fewest number of jobs in the queue\n",
    "service = QiskitRuntimeService(channel=\"ibm_quantum\",token='92264b2dc22178be65f58149e1b4e6e6e2ecb51136e95c8c0c4f7b146c85085566aca8cb80e96d0749f6e0683d2f83d374f0908acd6e6e31111e3d7d4003144b')\n",
    "backend = service.least_busy(operational=True, simulator=False)"
   ]
  },
  {
   "cell_type": "code",
   "execution_count": 18,
   "metadata": {},
   "outputs": [
    {
     "name": "stdout",
     "output_type": "stream",
     "text": [
      "Hamiltonian:\n",
      "<quactography.hamiltonian.hamiltonian_total.Hamiltonian object at 0x000002BE991A61D0>\n"
     ]
    },
    {
     "data": {
      "text/plain": [
       "array(<quactography.hamiltonian.hamiltonian_total.Hamiltonian object at 0x000002BE991A61D0>,\n",
       "      dtype=object)"
      ]
     },
     "execution_count": 18,
     "metadata": {},
     "output_type": "execute_result"
    }
   ],
   "source": [
    "import sys\n",
    "sys.path.append(r'C:\\Users\\harsh\\quactography')\n",
    "from quactography.graph.undirected_graph import Graph\n",
    "from quactography.adj_matrix.io import load_graph\n",
    "from quactography.hamiltonian.hamiltonian_total import Hamiltonian\n",
    "from quactography.solver.qaoa_multiprocess_solver import multiprocess_qaoa_solver\n",
    "\n",
    "def load_optimization_results(in_file):\n",
    "    data = np.load(in_file, allow_pickle=True)\n",
    "    return (\n",
    "        data[\"dist\"],\n",
    "        data[\"dist_binary_probabilities\"],\n",
    "        data[\"min_cost\"],\n",
    "        data[\"hamiltonian\"],\n",
    "        data[\"opt_bin_str\"],\n",
    "        data[\"reps\"],\n",
    "    )\n",
    "\n",
    "\n",
    "results= load_optimization_results(r'C:\\Users\\harsh\\quactography\\scripts\\qaoa_solver_infos_alpha_3.npz')\n",
    "\n",
    "# Show hamiltonian\n",
    "print(\"Hamiltonian:\")\n",
    "print(results[3])\n",
    "\n",
    "\n",
    "\n"
   ]
  },
  {
   "cell_type": "code",
   "execution_count": 9,
   "metadata": {},
   "outputs": [
    {
     "name": "stdout",
     "output_type": "stream",
     "text": [
      "<quactography.hamiltonian.hamiltonian_total.Hamiltonian object at 0x000002BE98B5E710>\n"
     ]
    }
   ],
   "source": []
  }
 ],
 "metadata": {
  "kernelspec": {
   "display_name": "quactography",
   "language": "python",
   "name": "python3"
  },
  "language_info": {
   "codemirror_mode": {
    "name": "ipython",
    "version": 3
   },
   "file_extension": ".py",
   "mimetype": "text/x-python",
   "name": "python",
   "nbconvert_exporter": "python",
   "pygments_lexer": "ipython3",
   "version": "3.11.5"
  }
 },
 "nbformat": 4,
 "nbformat_minor": 2
}
