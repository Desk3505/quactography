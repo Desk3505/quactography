{
 "cells": [
  {
   "cell_type": "markdown",
   "metadata": {},
   "source": [
    "### General Hamiltonian construction for qubits being nodes for any adjacency matrix: \n",
    "\n",
    "\n",
    "1) Load a graph (npz file) as it will be the adjacency matrix of our graph : "
   ]
  },
  {
   "cell_type": "code",
   "execution_count": 2,
   "metadata": {},
   "outputs": [
    {
     "name": "stdout",
     "output_type": "stream",
     "text": [
      "[0, 0, 1]\n",
      "[1, 2, 2]\n",
      "[array([5, 1, 4])]\n",
      "[0, 1, 2]\n"
     ]
    }
   ],
   "source": [
    "import numpy as np \n",
    "import sys\n",
    "\n",
    "sys.path.append(r\"C:\\Users\\harsh\\quactography\")\n",
    "\n",
    "from quactography.graph.undirected_graph import Graph \n",
    "from quactography.adj_matrix.io import load_graph \n",
    "\n",
    "# Load graph and see informations from Graph class in quactography library : \n",
    "\n",
    "# my_graph = load_graph(\"rand_graph.npz\")\n",
    "my_graph_class = Graph(np.array([[0,5,1], [5,0,4], [1,4,0]]), 1,0)\n",
    "print(my_graph_class.starting_nodes)\n",
    "print(my_graph_class.ending_nodes)\n",
    "print(my_graph_class.weights)\n",
    "print(my_graph_class.edge_indices)"
   ]
  },
  {
   "cell_type": "markdown",
   "metadata": {},
   "source": [
    "#### Cost it takes to go through a given path  (sum of the weights): \n",
    "\n",
    "$$\n",
    "    \\sum_{<i,j>} w_{ij} (\\frac{I-Z_i}{2}) (\\frac{I-Z_j}{2})\\\\\n",
    "    \\ \\frac{1}{4} \\sum_{<i,j>} w_{ij} (I - Z_i - Z_j + Z_i Z_j)\n",
    "    \n",
    "$$\n",
    "\n"
   ]
  },
  {
   "cell_type": "code",
   "execution_count": 3,
   "metadata": {},
   "outputs": [
    {
     "data": {
      "text/plain": [
       "SparsePauliOp(['III', 'IIZ', 'IZI', 'IZZ', 'IIZ', 'ZII', 'ZIZ', 'IZI', 'ZII', 'ZZI'],\n",
       "              coeffs=[ 2.5 +0.j, -1.25+0.j, -1.25+0.j, -1.25+0.j, -0.25+0.j, -0.25+0.j,\n",
       " -0.25+0.j, -1.  +0.j, -1.  +0.j, -1.  +0.j])"
      ]
     },
     "execution_count": 3,
     "metadata": {},
     "output_type": "execute_result"
    }
   ],
   "source": [
    "from qiskit.quantum_info import SparsePauliOp\n",
    "\n",
    "# First term in Hamiltonian concerning the mandatory cost of given path: \n",
    "\n",
    "pauli_weight_first_term = [\n",
    "            (\"I\" * my_graph_class.num_nodes, my_graph_class.all_weights_sum / 4)\n",
    "        ]\n",
    "\n",
    "# Goes trough a list of starting and ending nodes forming all possible edges in the graph, and according to the formula in markdown previous passage,\n",
    "# Constructs the Term which includes the cost of the path: \n",
    "pos=0\n",
    "for (node,node2) in zip(my_graph_class.starting_nodes,my_graph_class.ending_nodes):\n",
    "    \n",
    "    str1 = (\n",
    "    \"I\" * (my_graph_class.num_nodes - 1 - node) + \"Z\" + \"I\" * node, \n",
    "    -my_graph_class.weights[0][pos]/4 \n",
    ")\n",
    "    str2 = (\n",
    "    \"I\" * (my_graph_class.num_nodes - 1 - node2) + \"Z\" + \"I\" * node2, \n",
    "    -my_graph_class.weights[0][pos]/4 \n",
    ")\n",
    "    if node< node2:\n",
    "        str3 = (\n",
    "            \"I\" * (my_graph_class.num_nodes - 1 - node2) + \"Z\" + \"I\" * (node2-node-1) + \"Z\" + \"I\"*node, \n",
    "    -my_graph_class.weights[0][pos]/4 \n",
    "    )\n",
    "        pauli_weight_first_term.append(str1)\n",
    "        pauli_weight_first_term.append(str2)\n",
    "        pauli_weight_first_term.append(str3)\n",
    "    pos+=1\n",
    "    \n",
    "# We must now convert the list of strings containing the Pauli operators to a SparsePauliOp in Qiskit: \n",
    "\n",
    "mandatory_cost_h = SparsePauliOp.from_list(pauli_weight_first_term)\n",
    "mandatory_cost_h"
   ]
  },
  {
   "cell_type": "markdown",
   "metadata": {},
   "source": [
    "#### Departure constraint, makes sure we only have one edge connected to the starting node :\n",
    "\n",
    "$$\n",
    "\\sum_{i \\in D} (\\frac{I-Z_D}{2})(\\frac{I-Z_i}{2}) - I\\\\\n",
    "\n",
    "$$\n",
    "\n",
    "We notice the first to terms are constants (to be used in code later)\n",
    "\n",
    "#### Ending constraint, makes sure we only have one edge connected to the ending node :\n",
    "$$\n",
    "\\sum_{j \\in F} (\\frac{I-Z_j}{2})(\\frac{I-Z_F}{2}) - I\\\\\n",
    "\n",
    "$$"
   ]
  },
  {
   "cell_type": "code",
   "execution_count": 4,
   "metadata": {},
   "outputs": [
    {
     "name": "stdout",
     "output_type": "stream",
     "text": [
      "[('III', -1), ('III', 0.25), ('IZI', -0.25), ('IZZ', 0.25), ('IIZ', -0.25), ('III', 0.25), ('IZI', -0.25), ('ZZI', 0.25), ('ZII', -0.25)]\n",
      "[('III', -1), ('IZZ', 0.25), ('IZI', -0.25), ('III', 0.25), ('IIZ', -0.25), ('ZIZ', 0.25), ('ZII', -0.25), ('III', 0.25), ('IIZ', -0.25)]\n",
      "D :  [0, 2]\n",
      "F :  [1, 2]\n",
      "SparsePauliOp(['III', 'III', 'IZI', 'IZZ', 'IIZ', 'III', 'IZI', 'ZZI', 'ZII'],\n",
      "              coeffs=[-1.  +0.j,  0.25+0.j, -0.25+0.j,  0.25+0.j, -0.25+0.j,  0.25+0.j,\n",
      " -0.25+0.j,  0.25+0.j, -0.25+0.j])\n",
      "SparsePauliOp(['III', 'IZZ', 'IZI', 'III', 'IIZ', 'ZIZ', 'ZII', 'III', 'IIZ'],\n",
      "              coeffs=[-1.  +0.j,  0.25+0.j, -0.25+0.j,  0.25+0.j, -0.25+0.j,  0.25+0.j,\n",
      " -0.25+0.j,  0.25+0.j, -0.25+0.j])\n"
     ]
    }
   ],
   "source": [
    "departure_nodes = []\n",
    "finishing_nodes = []\n",
    "\n",
    "# Constructs the Term of the Hamiltonian which makes sure that there is only one node connected to the starting node (only one path taken from begining)\n",
    "# Constructs the very similar Term for making sure we also arrive at the ending node with one other intermediate node connected to it:\n",
    "\n",
    "# Constant terms for Start constraint:\n",
    "pauli_starting_node_term = [ (\"I\" * my_graph_class.num_nodes, -1)]\n",
    "\n",
    "# Constant terms for End constraint:\n",
    "pauli_end_term = [(\"I\" * my_graph_class.num_nodes, -1)]\n",
    "\n",
    "for node, node2 in zip(my_graph_class.starting_nodes, my_graph_class.ending_nodes):\n",
    "    start_node = my_graph_class.starting_node\n",
    "    end_node = my_graph_class.ending_node\n",
    "\n",
    "    if node == start_node:\n",
    "        departure_nodes.append(node2)\n",
    "    if node2 == start_node:\n",
    "        departure_nodes.append(node)\n",
    "    if node == end_node:\n",
    "        finishing_nodes.append(node2)\n",
    "    if node2 == end_node:\n",
    "        finishing_nodes.append(node)\n",
    "\n",
    "for node in departure_nodes:\n",
    "    str0 = (\n",
    "        (\"I\" * my_graph_class.num_nodes, 0.25)\n",
    "    ,(\n",
    "            \"I\" * (my_graph_class.num_nodes - 1 - my_graph_class.starting_node)\n",
    "            + \"Z\"\n",
    "            + \"I\" * my_graph_class.starting_node,\n",
    "            -0.25,\n",
    "        ),)\n",
    "    \n",
    "    pauli_starting_node_term.extend(str0)\n",
    "    if node > my_graph_class.starting_node:\n",
    "        str1 = (\n",
    "            \"I\" * (my_graph_class.num_nodes - 1 - node)\n",
    "            + \"Z\"\n",
    "            + \"I\" * (node - my_graph_class.starting_node - 1)\n",
    "            + \"Z\"\n",
    "            + \"I\" * my_graph_class.starting_node,\n",
    "            0.25,\n",
    "        )\n",
    "        pauli_starting_node_term.append(str1)\n",
    "\n",
    "    if node < my_graph_class.starting_node:\n",
    "        str2 = (\n",
    "            \"I\" * (my_graph_class.num_nodes - 1 - my_graph_class.starting_node)\n",
    "            + \"Z\"\n",
    "            + \"I\" * (my_graph_class.starting_node - node - 1)\n",
    "            + \"Z\"\n",
    "            + \"I\" * node,\n",
    "            0.25,\n",
    "        )\n",
    "        pauli_starting_node_term.append(str2)\n",
    "\n",
    "    str3 = (\n",
    "        \"I\" * (my_graph_class.num_nodes - 1 - node) + \"Z\" + \"I\" * node,\n",
    "        -0.25,\n",
    "    )\n",
    "    pauli_starting_node_term.append(str3)\n",
    "\n",
    "\n",
    "\n",
    "for node in finishing_nodes:\n",
    "\n",
    "    if node > my_graph_class.ending_node:\n",
    "        str4 = (\n",
    "            \"I\" * (my_graph_class.num_nodes - 1 - node)\n",
    "            + \"Z\"\n",
    "            + \"I\" * (node - my_graph_class.ending_node - 1)\n",
    "            + \"Z\"\n",
    "            + \"I\" * my_graph_class.ending_node,\n",
    "            0.25,\n",
    "        )\n",
    "        pauli_end_term.append(str4)\n",
    "\n",
    "    if node < my_graph_class.ending_node:\n",
    "        str5 = (\n",
    "            \"I\" * (my_graph_class.num_nodes - 1 - my_graph_class.ending_node)\n",
    "            + \"Z\"\n",
    "            + \"I\" * (my_graph_class.ending_node - node - 1)\n",
    "            + \"Z\"\n",
    "            + \"I\" * node,\n",
    "            0.25,\n",
    "        )\n",
    "        pauli_end_term.append(str5)\n",
    "\n",
    "    str6 = (\n",
    "        \"I\" * (my_graph_class.num_nodes - 1 - node) + \"Z\" + \"I\" * node,\n",
    "        -0.25,\n",
    "    )\n",
    "    pauli_end_term.append(str6)\n",
    "\n",
    "    \n",
    "\n",
    "    str7 = (\n",
    "        (\"I\" * my_graph_class.num_nodes, 0.25),\n",
    "        (\n",
    "            \"I\" * (my_graph_class.num_nodes - 1 - my_graph_class.ending_node)\n",
    "            + \"Z\"\n",
    "            + \"I\" * my_graph_class.ending_node,\n",
    "            -0.25,\n",
    "        ),\n",
    "    )\n",
    "\n",
    "    pauli_end_term.extend(str7)\n",
    "   \n",
    "\n",
    "print(pauli_starting_node_term)    \n",
    "print(pauli_end_term) \n",
    "\n",
    "print('D : ',departure_nodes)\n",
    "print('F : ',finishing_nodes)\n",
    "\n",
    "start_node_constraint_cost_h = SparsePauliOp.from_list(pauli_starting_node_term)    \n",
    "print(start_node_constraint_cost_h)\n",
    "\n",
    "ending_node_constraint_cost_h = SparsePauliOp.from_list(pauli_end_term) \n",
    "print(ending_node_constraint_cost_h)"
   ]
  },
  {
   "cell_type": "markdown",
   "metadata": {},
   "source": [
    "#### Constraint on intermediate nodes (pair number of edges connected to them):  \n",
    "\n",
    "$$\n",
    "\\sum_{k \\in I_k} \\left( \\left(\\prod_{<k,j>} Z_j\\right)-I\\right)\n",
    "$$\n",
    "\n",
    "We should then keep in mind that we want to formulate the Hamiltonian in a QUBO fashion. For that, our constraints must be positive whereas the mandatory cost is negative. \n",
    "Then, the total Hamiltonian should be: \n",
    "\n",
    "$$\n",
    " - \\sum_{<i,j>} w_{ij} (\\frac{I-Z_i}{2}) (\\frac{I-Z_j}{2}) +  \\alpha \\left( \\left(\\sum_{i \\in D} (\\frac{I-Z_D}{2})(\\frac{I-Z_i}{2}) - I\\right)^2 + \\left(\\sum_{j \\in F} (\\frac{I-Z_j}{2})(\\frac{I-Z_F}{2}) - I\\right)^2 + \\sum_{k \\in I_k} \\left( \\left(\\prod_{<k,j>} Z_j\\right)-I \\right)^2   \\right)\n",
    "$$\n",
    "\n",
    "We notice that the last term is not all squared, the sum is left outside the squared factor: "
   ]
  },
  {
   "cell_type": "code",
   "execution_count": 5,
   "metadata": {},
   "outputs": [
    {
     "name": "stdout",
     "output_type": "stream",
     "text": [
      "[0, 0, 1]\n",
      "[1, 2, 2]\n",
      "1\n",
      "0\n"
     ]
    },
    {
     "data": {
      "text/plain": [
       "{2: [0, 1]}"
      ]
     },
     "execution_count": 5,
     "metadata": {},
     "output_type": "execute_result"
    }
   ],
   "source": [
    "# List of [\"I\" * num_nodes], then replace j element in list by Z (nodes connected to intermediate node k) \n",
    "\n",
    "initial_int_term = [\"I\"] * my_graph_class.num_nodes\n",
    "\n",
    "print(my_graph_class.starting_nodes)\n",
    "print(my_graph_class.ending_nodes)\n",
    "print(my_graph_class.starting_node)\n",
    "print(my_graph_class.ending_node)\n",
    "\n",
    "\n",
    "# Set an empty dictionary to store the intermediate nodes connected to which other node in the graph:      \n",
    "node_connected = {}\n",
    "for node,node2 in zip(my_graph_class.starting_nodes, my_graph_class.ending_nodes):\n",
    "    if node != my_graph_class.starting_node and node != my_graph_class.ending_node:\n",
    "        if node not in node_connected:\n",
    "            node_connected[node] = [node2]\n",
    "        else:\n",
    "            node_connected[node].append(node2)\n",
    "    if node2 != my_graph_class.starting_node and node2 != my_graph_class.ending_node:\n",
    "        if node2 not in node_connected:\n",
    "            node_connected[node2] = [node]\n",
    "        else:\n",
    "            node_connected[node2].append(node)\n",
    "node_connected"
   ]
  },
  {
   "cell_type": "markdown",
   "metadata": {},
   "source": [
    "We now have a dictionnary of intermediate nodes in graph with the nodes it is connected to. \n",
    "What is left to do is to Replace in the initial identity term, the corresponding qubits indices to Z instead of I:"
   ]
  },
  {
   "cell_type": "code",
   "execution_count": 6,
   "metadata": {},
   "outputs": [
    {
     "name": "stdout",
     "output_type": "stream",
     "text": [
      "['ZZI']\n",
      "identity :  [[('ZZI', 1), ('III', -1)]]\n",
      "Pauli Operators of list elements :  [SparsePauliOp(['ZZI', 'III'],\n",
      "              coeffs=[ 1.+0.j, -1.+0.j])]\n",
      "Squared each term:  [SparsePauliOp(['III', 'ZZI', 'ZZI', 'III'],\n",
      "              coeffs=[ 1.+0.j, -1.+0.j, -1.+0.j,  1.+0.j])]\n"
     ]
    },
    {
     "data": {
      "text/plain": [
       "SparsePauliOp(['III', 'ZZI', 'ZZI', 'III'],\n",
       "              coeffs=[ 1.+0.j, -1.+0.j, -1.+0.j,  1.+0.j])"
      ]
     },
     "execution_count": 6,
     "metadata": {},
     "output_type": "execute_result"
    }
   ],
   "source": [
    "# Create the right number of terms for every intermediate node: \n",
    "\n",
    "initial_int_term_list =[ initial_int_term] * len(node_connected)\n",
    "# initial_int_term_list\n",
    "\n",
    "# Replace the position of the list which are values in the dictionary by Z:\n",
    "for pos, node_name in enumerate(node_connected):\n",
    "    for node in node_connected[node_name]:\n",
    "        initial_int_term_list[pos] = list(initial_int_term_list[pos])\n",
    "        initial_int_term_list[pos][node] = \"Z\"\n",
    "        initial_int_term_list[pos] = \"\".join(initial_int_term_list[pos])\n",
    "        initial_int_term_list[pos] = initial_int_term_list[pos]\n",
    "        # reverse the string to have the correct order of the qubits\n",
    "        initial_int_term_list[pos] = initial_int_term_list[pos][::-1]\n",
    "    \n",
    "print(initial_int_term_list)\n",
    "\n",
    "# Now that we have the  product terms, we must add the substraction of the identity operator to each term, elevate each of them to the square, then sum them as a SparsePauliOp:\n",
    "for i in range(len(initial_int_term_list)):\n",
    "    initial_int_term_list[i] = (initial_int_term_list[i], 1)\n",
    "    initial_int_term_list[i] = [initial_int_term_list[i],((\"I\" * my_graph_class.num_nodes, -1))]\n",
    "list_with_identity = initial_int_term_list\n",
    "\n",
    "print('identity : ',list_with_identity)\n",
    "\n",
    "# Create a Pauli Operator with the terms in the list:\n",
    "for i in range(len(list_with_identity)):\n",
    "    list_with_identity[i] = SparsePauliOp.from_list(list_with_identity[i])\n",
    "\n",
    "print('Pauli Operators of list elements : ',list_with_identity)\n",
    "\n",
    "# Square each term :\n",
    "for i in range(len(list_with_identity)):\n",
    "    list_with_identity[i] = list_with_identity[i] @ list_with_identity[i]\n",
    "print('Squared each term: ',list_with_identity)\n",
    "\n",
    "# Sum all the terms:\n",
    "initial_int_term_h = sum(list_with_identity)\n",
    "sum_intermediate_cost_h_terms = initial_int_term_h\n",
    "sum_intermediate_cost_h_terms"
   ]
  },
  {
   "cell_type": "code",
   "execution_count": 9,
   "metadata": {},
   "outputs": [
    {
     "name": "stdout",
     "output_type": "stream",
     "text": [
      "[0, 0, 0, 0, 1, 1, 2, 2, 3]\n",
      "[1, 2, 3, 4, 2, 4, 3, 4, 4]\n",
      "[array([1, 1, 1, 2, 1, 2, 1, 2, 2])]\n",
      "[0, 1, 2, 3, 4, 5, 6, 7, 8]\n"
     ]
    },
    {
     "ename": "TypeError",
     "evalue": "'int' object is not iterable",
     "output_type": "error",
     "traceback": [
      "\u001b[1;31m---------------------------------------------------------------------------\u001b[0m",
      "\u001b[1;31mTypeError\u001b[0m                                 Traceback (most recent call last)",
      "Cell \u001b[1;32mIn[9], line 3\u001b[0m\n\u001b[0;32m      1\u001b[0m \u001b[38;5;28;01mfrom\u001b[39;00m \u001b[38;5;21;01mquactography\u001b[39;00m\u001b[38;5;21;01m.\u001b[39;00m\u001b[38;5;21;01mgraph\u001b[39;00m\u001b[38;5;21;01m.\u001b[39;00m\u001b[38;5;21;01mundirected_graph\u001b[39;00m \u001b[38;5;28;01mimport\u001b[39;00m Graph\n\u001b[0;32m      2\u001b[0m \u001b[38;5;28;01mfrom\u001b[39;00m \u001b[38;5;21;01mquactography\u001b[39;00m\u001b[38;5;21;01m.\u001b[39;00m\u001b[38;5;21;01madj_matrix\u001b[39;00m\u001b[38;5;21;01m.\u001b[39;00m\u001b[38;5;21;01mio\u001b[39;00m \u001b[38;5;28;01mimport\u001b[39;00m load_graph\n\u001b[1;32m----> 3\u001b[0m \u001b[38;5;28;01mfrom\u001b[39;00m \u001b[38;5;21;01mquactography\u001b[39;00m\u001b[38;5;21;01m.\u001b[39;00m\u001b[38;5;21;01mhamiltonian\u001b[39;00m\u001b[38;5;21;01m.\u001b[39;00m\u001b[38;5;21;01mhamiltonian_qubit_node\u001b[39;00m \u001b[38;5;28;01mimport\u001b[39;00m Hamiltonian_qubit_node\n\u001b[0;32m      4\u001b[0m \u001b[38;5;28;01mimport\u001b[39;00m \u001b[38;5;21;01mnumpy\u001b[39;00m \u001b[38;5;28;01mas\u001b[39;00m \u001b[38;5;21;01mnp\u001b[39;00m\n\u001b[0;32m      5\u001b[0m \u001b[38;5;28;01mimport\u001b[39;00m \u001b[38;5;21;01msys\u001b[39;00m\n",
      "File \u001b[1;32m~\\quactography\\quactography\\hamiltonian\\hamiltonian_qubit_node.py:368\u001b[0m\n\u001b[0;32m    365\u001b[0m \u001b[38;5;28mprint\u001b[39m(my_graph_class\u001b[38;5;241m.\u001b[39medge_indices)\n\u001b[0;32m    367\u001b[0m \u001b[38;5;66;03m# Test mandatory_cost\u001b[39;00m\n\u001b[1;32m--> 368\u001b[0m h \u001b[38;5;241m=\u001b[39m \u001b[43mHamiltonian_qubit_node\u001b[49m\u001b[43m(\u001b[49m\u001b[43mmy_graph_class\u001b[49m\u001b[43m,\u001b[49m\u001b[43m \u001b[49m\u001b[38;5;241;43m1\u001b[39;49m\u001b[43m)\u001b[49m\n\u001b[0;32m    370\u001b[0m \u001b[38;5;66;03m# print(h.mandatory_c)\u001b[39;00m\n\u001b[0;32m    371\u001b[0m \n\u001b[0;32m    372\u001b[0m \u001b[38;5;66;03m# # Test starting_ending_node_cost\u001b[39;00m\n\u001b[1;32m   (...)\u001b[0m\n\u001b[0;32m    404\u001b[0m \u001b[38;5;66;03m# print(\"int2\")\u001b[39;00m\n\u001b[0;32m    405\u001b[0m \u001b[38;5;66;03m# print_hamiltonian_circuit(h.hint_c, [\"11111\"])\u001b[39;00m\n",
      "File \u001b[1;32m~\\quactography\\quactography\\hamiltonian\\hamiltonian_qubit_node.py:20\u001b[0m, in \u001b[0;36mHamiltonian_qubit_node.__init__\u001b[1;34m(self, graph, alpha)\u001b[0m\n\u001b[0;32m     18\u001b[0m \u001b[38;5;28mself\u001b[39m\u001b[38;5;241m.\u001b[39mstarting_node_c \u001b[38;5;241m=\u001b[39m \u001b[38;5;28mself\u001b[39m\u001b[38;5;241m.\u001b[39mstarting_ending_node_cost()[\u001b[38;5;241m0\u001b[39m]\n\u001b[0;32m     19\u001b[0m \u001b[38;5;28mself\u001b[39m\u001b[38;5;241m.\u001b[39mending_node_c \u001b[38;5;241m=\u001b[39m \u001b[38;5;28mself\u001b[39m\u001b[38;5;241m.\u001b[39mstarting_ending_node_cost()[\u001b[38;5;241m1\u001b[39m]\n\u001b[1;32m---> 20\u001b[0m \u001b[38;5;28mself\u001b[39m\u001b[38;5;241m.\u001b[39mhint_c \u001b[38;5;241m=\u001b[39m \u001b[38;5;28;43mself\u001b[39;49m\u001b[38;5;241;43m.\u001b[39;49m\u001b[43mintermediate_node_cost\u001b[49m\u001b[43m(\u001b[49m\u001b[43m)\u001b[49m\n\u001b[0;32m     21\u001b[0m \u001b[38;5;28mself\u001b[39m\u001b[38;5;241m.\u001b[39malpha \u001b[38;5;241m=\u001b[39m alpha\n\u001b[0;32m     22\u001b[0m \u001b[38;5;28mself\u001b[39m\u001b[38;5;241m.\u001b[39mtotal_hamiltonian \u001b[38;5;241m=\u001b[39m (\n\u001b[0;32m     23\u001b[0m     \u001b[38;5;241m-\u001b[39m\u001b[38;5;28mself\u001b[39m\u001b[38;5;241m.\u001b[39mmandatory_c\n\u001b[0;32m     24\u001b[0m     \u001b[38;5;241m+\u001b[39m \u001b[38;5;28mself\u001b[39m\u001b[38;5;241m.\u001b[39malpha\n\u001b[1;32m   (...)\u001b[0m\n\u001b[0;32m     27\u001b[0m     )\u001b[38;5;241m.\u001b[39msimplify()\n\u001b[0;32m     28\u001b[0m )\n",
      "File \u001b[1;32m~\\quactography\\quactography\\hamiltonian\\hamiltonian_qubit_node.py:224\u001b[0m, in \u001b[0;36mHamiltonian_qubit_node.intermediate_node_cost\u001b[1;34m(self)\u001b[0m\n\u001b[0;32m    219\u001b[0m \u001b[38;5;28;01mdef\u001b[39;00m \u001b[38;5;21mintermediate_node_cost\u001b[39m(\u001b[38;5;28mself\u001b[39m):\n\u001b[0;32m    220\u001b[0m     \u001b[38;5;66;03m# Get acces to intermediate nodes in the given instance:\u001b[39;00m\n\u001b[0;32m    222\u001b[0m     intermediate_nodes \u001b[38;5;241m=\u001b[39m []\n\u001b[1;32m--> 224\u001b[0m \u001b[43m    \u001b[49m\u001b[38;5;28;43;01mfor\u001b[39;49;00m\u001b[43m \u001b[49m\u001b[43mnode\u001b[49m\u001b[43m \u001b[49m\u001b[38;5;129;43;01min\u001b[39;49;00m\u001b[43m \u001b[49m\u001b[38;5;28;43mself\u001b[39;49m\u001b[38;5;241;43m.\u001b[39;49m\u001b[43mgraph\u001b[49m\u001b[38;5;241;43m.\u001b[39;49m\u001b[43mnum_nodes\u001b[49m\u001b[43m:\u001b[49m\n\u001b[0;32m    225\u001b[0m \u001b[43m        \u001b[49m\u001b[38;5;28;43;01mif\u001b[39;49;00m\u001b[43m \u001b[49m\u001b[43mnode\u001b[49m\u001b[43m \u001b[49m\u001b[38;5;241;43m!=\u001b[39;49m\u001b[43m \u001b[49m\u001b[38;5;28;43mself\u001b[39;49m\u001b[38;5;241;43m.\u001b[39;49m\u001b[43mgraph\u001b[49m\u001b[38;5;241;43m.\u001b[39;49m\u001b[43mstarting_node\u001b[49m\u001b[43m:\u001b[49m\n\u001b[0;32m    226\u001b[0m \u001b[43m            \u001b[49m\u001b[38;5;28;43;01mif\u001b[39;49;00m\u001b[43m \u001b[49m\u001b[43mnode\u001b[49m\u001b[43m \u001b[49m\u001b[38;5;241;43m!=\u001b[39;49m\u001b[43m \u001b[49m\u001b[38;5;28;43mself\u001b[39;49m\u001b[38;5;241;43m.\u001b[39;49m\u001b[43mgraph\u001b[49m\u001b[38;5;241;43m.\u001b[39;49m\u001b[43mending_node\u001b[49m\u001b[43m:\u001b[49m\n",
      "\u001b[1;31mTypeError\u001b[0m: 'int' object is not iterable"
     ]
    }
   ],
   "source": [
    "from quactography.graph.undirected_graph import Graph\n",
    "from quactography.adj_matrix.io import load_graph\n",
    "from quactography.hamiltonian.hamiltonian_qubit_node import Hamiltonian_qubit_node\n",
    "import numpy as np\n",
    "import sys\n",
    "\n",
    "sys.path.append(r\"C:\\Users\\harsh\\quactography\")\n",
    "\n",
    "from quactography.adj_matrix.io import save_graph\n",
    "\n",
    "my_graph_class = Graph(np.array([[0,5,1], [5,0,4], [1,4,0]]), 1,0)\n",
    "print(my_graph_class.starting_nodes)\n",
    "print(my_graph_class.ending_nodes)\n",
    "print(my_graph_class.weights)\n",
    "print(my_graph_class.edge_indices)\n",
    "\n",
    "# Test mandatory_cost\n",
    "h = Hamiltonian_qubit_node(my_graph_class, 1)\n",
    "print(h.mandatory_c)\n",
    "\n",
    "# # Test starting_ending_node_cost\n",
    "# print(h.starting_node_c)  \n",
    "# print(h.ending_node_c)  \n",
    "\n",
    "# # Test intermediate_cost \n",
    "# print(h.hint_c)  \n",
    "\n",
    "print('total :', h.total_hamiltonian.simplify())\n",
    "print(h.exact_cost)\n",
    "print(h.exact_path)\n",
    "from quactography.hamiltonian.validate import print_hamiltonian_circuit\n",
    "\n",
    "print_hamiltonian_circuit(h.total_hamiltonian, [\"110\"])\n",
    "print_hamiltonian_circuit(h.mandatory_c, [\"110\"])\n",
    "print_hamiltonian_circuit(h.starting_node_c, [\"110\"])\n",
    "print_hamiltonian_circuit(h.ending_node_c, [\"110\"])\n",
    "print_hamiltonian_circuit(h.hint_c, [\"110\"])"
   ]
  },
  {
   "cell_type": "markdown",
   "metadata": {},
   "source": [
    "#### How to test the code with custom graph using the quactography library: "
   ]
  },
  {
   "cell_type": "code",
   "execution_count": 7,
   "metadata": {},
   "outputs": [],
   "source": [
    "# import numpy as np \n",
    "# import sys\n",
    "# sys.path.append(r\"C:\\Users\\harsh\\quactography\")\n",
    "\n",
    "# from quactography.adj_matrix.io import save_graph \n",
    "\n",
    "# mat = np.array([[0,1,1,0],[1,0,1,5],[1,1,0,6], [0,5,6,0]])\n",
    "\n",
    "# # This is the given format you should use to save the graph, for mat: \n",
    "# save_graph(mat,np.array([0,1,2,3]),np.array([4,4]),\"rand_graph.npz\")\n"
   ]
  },
  {
   "cell_type": "markdown",
   "metadata": {},
   "source": [
    "Here, we want to visualize what different possible paths look like, using tools like networkx in order to get a better understanding of bad cases and thus, find constraints that are suitable. When right clauses are found, the next objective is to transform the classical equations in the form of Pauli opertors terms before translating the problem in QUBO form ,or another method could be used. "
   ]
  },
  {
   "cell_type": "code",
   "execution_count": 10,
   "metadata": {},
   "outputs": [
    {
     "name": "stdout",
     "output_type": "stream",
     "text": [
      "DiGraph with 4 nodes and 12 edges\n"
     ]
    },
    {
     "data": {
      "image/png": "[encoded data removed]",
      "text/plain": [
       "<Figure size 640x480 with 1 Axes>"
      ]
     },
     "metadata": {},
     "output_type": "display_data"
    },
    {
     "name": "stdout",
     "output_type": "stream",
     "text": [
      "[[0 1 0 1 1 0 0 1 1]\n",
      " [1 0 1 0 0 0 0 0 0]\n",
      " [0 1 0 0 0 0 0 0 0]\n",
      " [1 0 0 0 0 0 0 0 0]\n",
      " [1 0 0 0 0 1 1 0 0]\n",
      " [0 0 0 0 1 0 0 0 0]\n",
      " [0 0 0 0 1 0 0 0 0]\n",
      " [1 0 0 0 0 0 0 0 0]\n",
      " [1 0 0 0 0 0 0 0 0]]\n"
     ]
    }
   ],
   "source": [
    "# Paths visualisation tool with networkx for nodes: \n",
    "# Before implementing the desired test, let's review the basics of Networkx: \n",
    "\n",
    "# First import library:\n",
    "import networkx as nx \n",
    "import matplotlib.pyplot as plt \n",
    "\n",
    "# Create a graph instance, with Graph method: \n",
    "G = nx.Graph()\n",
    "\n",
    "# Add nodes to the graph (could be the column names of ajacency matrix): \n",
    "# Here, it is possible to add a node composed of nodes (nbunch), see documentation if desired. \n",
    "# The nbunch advantage is to have a graph representation of an object that is different than simple nodes\n",
    "# but can be functions, files etc. \n",
    "# G.add_nodes_from([0,1,2,3])\n",
    "G.add_node(1, role = 's')\n",
    "G.add_node(0, role='i')\n",
    "G.add_node(2, role='i')\n",
    "G.add_node(3, role='i')\n",
    "G.add_node(1, role = 'f')\n",
    "\n",
    "# print(G.nodes(data=True))\n",
    "\n",
    "# If we want to add all possible ways to get a path from start node to finish node, \n",
    "# We must make a function to test them out: \n",
    "\n",
    "# TODO : function to trace all possible routes. \n",
    "\n",
    "# Add all edges: \n",
    "G.add_edges_from([(0,1), (0,2), (0,3), (1,2), (1,3), (2,3) ])\n",
    "\n",
    "# It is also possible to trace a directed graph : \n",
    "\n",
    "dG = nx.DiGraph(G)\n",
    "print(dG)\n",
    "\n",
    "# Coloring edges for example edge(0,1):\n",
    "G[0][1]['color'] = 'blue'\n",
    "\n",
    "# Using a stochastic graph generator, e.g.\n",
    "#  >>> er=nx.erdos_renyi_graph(100,0.15)\n",
    "#  >>> ws=nx.watts_strogatz_graph(30,3,0.1)\n",
    "#  >>> ba=nx.barabasi_albert_graph(100,5)\n",
    "#  >>> red=nx.random_lobster(100,0.9,0.9)\n",
    "\n",
    "#  Reading a graph stored in a file using common graph formats, such as edge lists, adjacency lists, GML,\n",
    "#  GraphML, pickle, LEDA and others.\n",
    "#  >>> nx.write_gml(red,\"path.to.file\")\n",
    "#  >>> mygraph=nx.read_gml(\"path.to.file\")\n",
    "\n",
    "\n",
    "# Useful for degree test: \n",
    "G = nx.random_lobster(5, 0.5, 0.3)\n",
    "nx.draw(G)\n",
    "plt.show()\n",
    "print(nx.adjacency_matrix(G).todense())"
   ]
  },
  {
   "cell_type": "code",
   "execution_count": 59,
   "metadata": {},
   "outputs": [
    {
     "name": "stdout",
     "output_type": "stream",
     "text": [
      "s_n [0, 0, 0, 0, 1, 1, 2, 2, 3]\n",
      "e_n [1, 2, 3, 4, 2, 4, 3, 4, 4]\n",
      "ind [0, 1, 2, 3, 4, 5, 6, 7, 8]\n",
      "w   [1 1 1 2 1 2 1 2 2]\n",
      "num nodes 5\n",
      "[2, 3, 4]\n",
      "[[0, 1, 3, 4], [0, 2, 4], [0, 1, 2, 3]]\n",
      "['I', 'I', 'I', 'I', 'I']\n",
      "['I', 'I', 'I', 'I', 'I']\n",
      "['I', 'I', 'I', 'I', 'I']\n",
      "[(('ZZIZZ', 1), ('IIIII', -1)), (('ZIZIZ', 1), ('IIIII', -1)), (('IZZZZ', 1), ('IIIII', -1))]\n",
      "3\n",
      "[SparsePauliOp(['ZZIZZ', 'IIIII'],\n",
      "              coeffs=[ 1.+0.j, -1.+0.j]), SparsePauliOp(['ZIZIZ', 'IIIII'],\n",
      "              coeffs=[ 1.+0.j, -1.+0.j]), SparsePauliOp(['IZZZZ', 'IIIII'],\n",
      "              coeffs=[ 1.+0.j, -1.+0.j])]\n",
      "[SparsePauliOp(['IIIII', 'ZZIZZ', 'ZZIZZ', 'IIIII'],\n",
      "              coeffs=[ 1.+0.j, -1.+0.j, -1.+0.j,  1.+0.j]), SparsePauliOp(['IIIII', 'ZIZIZ', 'ZIZIZ', 'IIIII'],\n",
      "              coeffs=[ 1.+0.j, -1.+0.j, -1.+0.j,  1.+0.j]), SparsePauliOp(['IIIII', 'IZZZZ', 'IZZZZ', 'IIIII'],\n",
      "              coeffs=[ 1.+0.j, -1.+0.j, -1.+0.j,  1.+0.j])]\n",
      "SparsePauliOp(['IIIII', 'ZZIZZ', 'ZIZIZ', 'IZZZZ'],\n",
      "              coeffs=[ 6.+0.j, -2.+0.j, -2.+0.j, -2.+0.j])\n"
     ]
    }
   ],
   "source": [
    "# Get acces to intermediate nodes in the given instance:\n",
    "from qiskit.quantum_info import SparsePauliOp\n",
    "import sys\n",
    "\n",
    "sys.path.append(r\"C:\\Users\\harsh\\quactography\")\n",
    "\n",
    "from quactography.graph.undirected_graph import Graph\n",
    "from quactography.adj_matrix.io import load_graph\n",
    "\n",
    "# from quactography.hamiltonian.hamiltonian_qubit_node import Hamiltonian_qubit_node\n",
    "import numpy as np\n",
    "\n",
    "from quactography.adj_matrix.io import save_graph\n",
    "\n",
    "my_graph_class = Graph(\n",
    "    np.array(\n",
    "        [\n",
    "            [0, 1, 1, 1, 2],\n",
    "            [1, 0, 1, 0, 2],\n",
    "            [1, 1, 0, 1, 2],\n",
    "            [1, 0, 1, 0, 2],\n",
    "            [1, 0, 1, 0, 2],\n",
    "        ]\n",
    "    ),\n",
    "    1,\n",
    "    0,\n",
    ")\n",
    "print('s_n',my_graph_class.starting_nodes)\n",
    "print('e_n',my_graph_class.ending_nodes)\n",
    "print('ind',my_graph_class.edge_indices)\n",
    "print('w  ',my_graph_class.weights[0])\n",
    "\n",
    "\n",
    "\n",
    "# Intermediate nodes constraints: \n",
    "# List of intermediate nodes indices: \n",
    "intermediate_nodes = []\n",
    "\n",
    "# List of list of connexions of each intermediate nodes: \n",
    "connected_tos = []\n",
    "\n",
    "print('num nodes', my_graph_class.num_nodes)\n",
    "\n",
    "# Fill the list of intermediate_nodes: \n",
    "for i in range(my_graph_class.num_nodes):\n",
    "    \n",
    "    if i != my_graph_class.starting_node:\n",
    "        if i != my_graph_class.ending_node:\n",
    "            intermediate_nodes.append(i)\n",
    "            \n",
    "\n",
    "# Fill the list of connected_tos with list of connexions for each intermediate node: \n",
    "for pos,int_node_index in enumerate(intermediate_nodes): \n",
    "    connected_to=[]\n",
    "    \n",
    "    for node, node2 in zip(my_graph_class.starting_nodes, my_graph_class.ending_nodes):\n",
    "        if node == int_node_index:\n",
    "            connected_to.append(node2)\n",
    "        elif node2 == int_node_index:\n",
    "            connected_to.append(node)\n",
    "    connected_tos.append(connected_to)    \n",
    "            \n",
    "\n",
    "print(intermediate_nodes)\n",
    "print(connected_tos)\n",
    "\n",
    "# List containing the Hamiltonian term for each intermediate term \n",
    "list_int_terms = []\n",
    "\n",
    "for pos,connexions_list in enumerate(connected_tos):\n",
    "    init_term = [\"I\"] * my_graph_class.num_nodes\n",
    "    print(init_term)\n",
    "    for i in connexions_list:\n",
    "        init_term[i] = \"Z\"\n",
    "        \n",
    "    init_term= init_term[::-1]\n",
    "    init_term=\"\".join(init_term)\n",
    "    list_int_terms.extend([((init_term,1),(\"I\"*my_graph_class.num_nodes,-1))])\n",
    "    \n",
    "print(list_int_terms)\n",
    "print(len(list_int_terms))\n",
    "\n",
    "pauli_op_term_ints = []\n",
    "for i in range(len(list_int_terms)):\n",
    "    pauli_op_term_ints.append(SparsePauliOp.from_list(list_int_terms[i]))\n",
    "print(pauli_op_term_ints)\n",
    "\n",
    "for i in range(len(pauli_op_term_ints)):\n",
    "    pauli_op_term_ints[i] = pauli_op_term_ints[i] @ pauli_op_term_ints[i]\n",
    "print(pauli_op_term_ints)\n",
    "sum_intermediate_cost_h_terms = sum(pauli_op_term_ints)\n",
    "\n",
    "print(sum_intermediate_cost_h_terms.simplify())"
   ]
  },
  {
   "cell_type": "code",
   "execution_count": 2,
   "metadata": {},
   "outputs": [
    {
     "data": {
      "text/plain": [
       "24"
      ]
     },
     "execution_count": 2,
     "metadata": {},
     "output_type": "execute_result"
    }
   ],
   "source": [
    "import numpy as np\n",
    "\n",
    "np.prod([2,3,4])"
   ]
  }
 ],
 "metadata": {
  "kernelspec": {
   "display_name": "stageT2",
   "language": "python",
   "name": "python3"
  },
  "language_info": {
   "codemirror_mode": {
    "name": "ipython",
    "version": 3
   },
   "file_extension": ".py",
   "mimetype": "text/x-python",
   "name": "python",
   "nbconvert_exporter": "python",
   "pygments_lexer": "ipython3",
   "version": "3.11.5"
  }
 },
 "nbformat": 4,
 "nbformat_minor": 2
}
