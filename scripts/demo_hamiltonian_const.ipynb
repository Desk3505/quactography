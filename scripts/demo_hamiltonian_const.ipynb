{
 "cells": [
  {
   "cell_type": "markdown",
   "metadata": {},
   "source": [
    "### General Hamiltonian construction for qubits being nodes for any adjacency matrix: \n",
    "\n",
    "\n",
    "1) Load a graph (npz file) as it will be the adjacency matrix of our graph : "
   ]
  },
  {
   "cell_type": "code",
   "execution_count": 1,
   "metadata": {},
   "outputs": [
    {
     "name": "stdout",
     "output_type": "stream",
     "text": [
      "[[0. 3. 2. 3.]\n",
      " [3. 0. 2. 1.]\n",
      " [2. 2. 0. 3.]\n",
      " [3. 1. 3. 0.]]\n",
      "[0, 0, 0, 1, 1, 2]\n",
      "[1, 2, 3, 2, 3, 3]\n",
      "[array([3., 2., 3., 2., 1., 3.])]\n",
      "[0, 1, 2, 3, 4, 5]\n"
     ]
    }
   ],
   "source": [
    "import numpy as np \n",
    "import sys\n",
    "\n",
    "sys.path.append(r\"C:\\Users\\harsh\\quactography\")\n",
    "\n",
    "from quactography.graph.undirected_graph import Graph \n",
    "from quactography.adj_matrix.io import load_graph \n",
    "\n",
    "# Load graph and see informations from Graph class in quactography library : \n",
    "\n",
    "my_graph = load_graph(\"rand_graph.npz\")\n",
    "my_graph_class = Graph(my_graph[0], 1,0)\n",
    "print(my_graph[0])\n",
    "print(my_graph_class.starting_nodes)\n",
    "print(my_graph_class.ending_nodes)\n",
    "print(my_graph_class.weights)\n",
    "print(my_graph_class.q_indices)"
   ]
  },
  {
   "cell_type": "markdown",
   "metadata": {},
   "source": [
    "#### Cost it takes to go through a given path  (sum of the weights): \n",
    "\n",
    "$$\n",
    "    \\sum_{<i,j>} w_{ij} (\\frac{I-Z_i}{2}) (\\frac{I-Z_j}{2})\\\\\n",
    "    \\ \\frac{1}{4} \\sum_{<i,j>} w_{ij} (I - Z_i - Z_j + Z_i Z_j)\n",
    "    \n",
    "$$\n",
    "\n"
   ]
  },
  {
   "cell_type": "code",
   "execution_count": 2,
   "metadata": {},
   "outputs": [
    {
     "data": {
      "text/plain": [
       "SparsePauliOp(['IIII', 'IIIZ', 'IIZI', 'IIZZ', 'IIIZ', 'IZII', 'IZIZ', 'IIIZ', 'ZIII', 'ZIIZ', 'IIZI', 'IZII', 'IZZI', 'IIZI', 'ZIII', 'ZIZI', 'IZII', 'ZIII', 'ZZII'],\n",
       "              coeffs=[ 3.5 +0.j, -0.75+0.j, -0.75+0.j, -0.75+0.j, -0.5 +0.j, -0.5 +0.j,\n",
       " -0.5 +0.j, -0.75+0.j, -0.75+0.j, -0.75+0.j, -0.5 +0.j, -0.5 +0.j,\n",
       " -0.5 +0.j, -0.25+0.j, -0.25+0.j, -0.25+0.j, -0.75+0.j, -0.75+0.j,\n",
       " -0.75+0.j])"
      ]
     },
     "execution_count": 2,
     "metadata": {},
     "output_type": "execute_result"
    }
   ],
   "source": [
    "from qiskit.quantum_info import SparsePauliOp\n",
    "\n",
    "# First term in Hamiltonian concerning the mandatory cost of given path: \n",
    "\n",
    "pauli_weight_first_term = [\n",
    "            (\"I\" * my_graph_class.num_nodes, my_graph_class.all_weights_sum / 4)\n",
    "        ]\n",
    "\n",
    "# Goes trough a list of starting and ending nodes forming all possible edges in the graph, and according to the formula in markdown previous passage,\n",
    "# Constructs the Term which includes the cost of the path: \n",
    "pos=0\n",
    "for (node,node2) in zip(my_graph_class.starting_nodes,my_graph_class.ending_nodes):\n",
    "    \n",
    "    str1 = (\n",
    "    \"I\" * (my_graph_class.num_nodes - 1 - node) + \"Z\" + \"I\" * node, \n",
    "    -my_graph_class.weights[0][pos]/4 \n",
    ")\n",
    "    str2 = (\n",
    "    \"I\" * (my_graph_class.num_nodes - 1 - node2) + \"Z\" + \"I\" * node2, \n",
    "    -my_graph_class.weights[0][pos]/4 \n",
    ")\n",
    "    if node< node2:\n",
    "        str3 = (\n",
    "            \"I\" * (my_graph_class.num_nodes - 1 - node2) + \"Z\" + \"I\" * (node2-node-1) + \"Z\" + \"I\"*node, \n",
    "    -my_graph_class.weights[0][pos]/4 \n",
    "    )\n",
    "        pauli_weight_first_term.append(str1)\n",
    "        pauli_weight_first_term.append(str2)\n",
    "        pauli_weight_first_term.append(str3)\n",
    "    pos+=1\n",
    "    \n",
    "# We must now convert the list of strings containing the Pauli operators to a SparsePauliOp in Qiskit: \n",
    "\n",
    "mandatory_cost_h = SparsePauliOp.from_list(pauli_weight_first_term)\n",
    "mandatory_cost_h"
   ]
  },
  {
   "cell_type": "markdown",
   "metadata": {},
   "source": [
    "#### Departure constraint, makes sure we only have one edge connected to the starting node :\n",
    "\n",
    "$$\n",
    "\\sum_{i \\in D} (\\frac{I-Z_D}{2})(\\frac{I-Z_i}{2}) - I\\\\\n",
    "\\frac{-3}{4} I - \\frac{Z_D}{4} + \\sum_{i \\in D} \\frac{Z_D Z_i}{4} - \\frac{Z_i}{4}\n",
    "$$\n",
    "\n",
    "We notice the first to terms are constants (to be used in code later)\n",
    "\n",
    "#### Ending constraint, makes sure we only have one edge connected to the ending node :\n",
    "$$\n",
    "\\sum_{j \\in F} (\\frac{I-Z_j}{2})(\\frac{I-Z_F}{2}) - I\\\\\n",
    "\n",
    "\\frac{-3}{4} I - \\frac{Z_F}{4} \\sum_{j \\in F}  - \\frac{Z_j}{4} + \\frac{Z_j Z_F}{4}\n",
    "$$"
   ]
  },
  {
   "cell_type": "code",
   "execution_count": 3,
   "metadata": {},
   "outputs": [
    {
     "name": "stdout",
     "output_type": "stream",
     "text": [
      "[('IIII', -0.75), ('IIZI', -0.25), ('IIZZ', 0.25), ('IIIZ', -0.25), ('IZZI', 0.25), ('IZII', -0.25), ('ZIZI', 0.25), ('ZIII', -0.25)]\n",
      "[('IIII', -0.75), ('IIIZ', -0.25), ('IIZZ', 0.25), ('IIZI', -0.25), ('IZIZ', 0.25), ('IZII', -0.25), ('ZIIZ', 0.25), ('ZIII', -0.25)]\n",
      "D :  [0, 2, 3]\n",
      "F :  [1, 2, 3]\n",
      "SparsePauliOp(['IIII', 'IIZI', 'IIZZ', 'IIIZ', 'IZZI', 'IZII', 'ZIZI', 'ZIII'],\n",
      "              coeffs=[-0.75+0.j, -0.25+0.j,  0.25+0.j, -0.25+0.j,  0.25+0.j, -0.25+0.j,\n",
      "  0.25+0.j, -0.25+0.j])\n",
      "SparsePauliOp(['IIII', 'IIIZ', 'IIZZ', 'IIZI', 'IZIZ', 'IZII', 'ZIIZ', 'ZIII'],\n",
      "              coeffs=[-0.75+0.j, -0.25+0.j,  0.25+0.j, -0.25+0.j,  0.25+0.j, -0.25+0.j,\n",
      "  0.25+0.j, -0.25+0.j])\n"
     ]
    }
   ],
   "source": [
    "departure_nodes = []\n",
    "finishing_nodes = []\n",
    "\n",
    "# Constructs the Term of the Hamiltonian which makes sure that there is only one node connected to the starting node (only one path taken from begining)\n",
    "# Constructs the very similar Term for making sure we also arrive at the ending node with one other intermediate node connected to it: \n",
    "\n",
    "# Constant terms for Start constraint: \n",
    "pauli_starting_node_term = [\n",
    "            (\"I\" * my_graph_class.num_nodes,-0.75 ), \n",
    "            (\"I\" * (my_graph_class.num_nodes - 1 - my_graph_class.starting_node) + \"Z\" + \"I\" * my_graph_class.starting_node,-0.25 )\n",
    "        ]\n",
    "\n",
    "# Constant terms for End constraint: \n",
    "pauli_end_term = [\n",
    "    (\"I\" * my_graph_class.num_nodes,-0.75 ), \n",
    "    (\"I\" * (my_graph_class.num_nodes - 1 - my_graph_class.ending_node) + \"Z\" + \"I\" * my_graph_class.ending_node,-0.25 )\n",
    "]\n",
    "\n",
    "for node, node2 in zip(my_graph_class.starting_nodes, my_graph_class.ending_nodes):\n",
    "    start_node = my_graph_class.starting_node \n",
    "    end_node = my_graph_class.ending_node \n",
    "    \n",
    "    if node == start_node:\n",
    "        departure_nodes.append(node2)\n",
    "    if node2 == start_node:\n",
    "        departure_nodes.append(node)\n",
    "    if node == end_node:\n",
    "        finishing_nodes.append(node2)\n",
    "    if node2 == end_node:\n",
    "        finishing_nodes.append(node)\n",
    "\n",
    "    \n",
    "for node in departure_nodes:\n",
    "    if node > my_graph_class.starting_node:\n",
    "        str1 = (\n",
    "            \"I\" * (my_graph_class.num_nodes - 1 - node) + \"Z\" + \"I\" * (node-my_graph_class.starting_node-1) + \"Z\" + \"I\"* my_graph_class.starting_node, 1/4 \n",
    "            )\n",
    "        pauli_starting_node_term.append(str1)    \n",
    "        \n",
    "    if node < my_graph_class.starting_node:\n",
    "        str2 = (\n",
    "            \"I\" * (my_graph_class.num_nodes - 1 - my_graph_class.starting_node) + \"Z\" + \"I\" * (my_graph_class.starting_node - node-1) + \"Z\" + \"I\"* node, 1/4 \n",
    "            )\n",
    "        pauli_starting_node_term.append(str2) \n",
    "    \n",
    "    str3 = (\n",
    "        \"I\" * (my_graph_class.num_nodes - 1 - node) + \"Z\" + \"I\" * node, -0.25\n",
    "    )\n",
    "    pauli_starting_node_term.append(str3)\n",
    "    \n",
    "for node in finishing_nodes:\n",
    "    if node > my_graph_class.ending_node:\n",
    "        str4 = (\n",
    "            \"I\" * (my_graph_class.num_nodes - 1 - node) + \"Z\" + \"I\" * (node-my_graph_class.ending_node-1) + \"Z\" + \"I\"* my_graph_class.ending_node, 1/4 \n",
    "            )\n",
    "        pauli_end_term.append(str4)    \n",
    "        \n",
    "    if node < my_graph_class.ending_node:\n",
    "        str5 = (\n",
    "            \"I\" * (my_graph_class.num_nodes - 1 - my_graph_class.ending_node) + \"Z\" + \"I\" * (my_graph_class.ending_node - node-1) + \"Z\" + \"I\"* node, 1/4 \n",
    "            )\n",
    "        pauli_end_term.append(str5) \n",
    "    \n",
    "    str6 = (\n",
    "        \"I\" * (my_graph_class.num_nodes - 1 - node) + \"Z\" + \"I\" * node, -0.25\n",
    "    )\n",
    "    pauli_end_term.append(str6)\n",
    "    \n",
    "print(pauli_starting_node_term)    \n",
    "print(pauli_end_term) \n",
    "\n",
    "print('D : ',departure_nodes)\n",
    "print('F : ',finishing_nodes)\n",
    "\n",
    "start_node_constraint_cost_h = SparsePauliOp.from_list(pauli_starting_node_term)    \n",
    "print(start_node_constraint_cost_h)\n",
    "\n",
    "ending_node_constraint_cost_h = SparsePauliOp.from_list(pauli_end_term) \n",
    "print(ending_node_constraint_cost_h)"
   ]
  },
  {
   "cell_type": "markdown",
   "metadata": {},
   "source": [
    "#### Constraint on intermediate nodes (pair number of edges connected to them):  \n",
    "\n",
    "$$\n",
    "\\sum_{k \\in I_k} \\left( \\left(\\prod_{<k,j>} Z_j\\right)-I\\right)\n",
    "$$\n",
    "\n",
    "We should then keep in mind that we want to formulate the Hamiltonian in a QUBO fashion. For that, our constraints must be positive whereas the mandatory cost is negative. \n",
    "Then, the total Hamiltonian should be: \n",
    "\n",
    "$$\n",
    " - \\sum_{<i,j>} w_{ij} (\\frac{I-Z_i}{2}) (\\frac{I-Z_j}{2}) +  \\alpha \\left( \\left(\\sum_{i \\in D} (\\frac{I-Z_D}{2})(\\frac{I-Z_i}{2}) - I\\right)^2 + \\left(\\sum_{j \\in F} (\\frac{I-Z_j}{2})(\\frac{I-Z_F}{2}) - I\\right)^2 + \\sum_{k \\in I_k} \\left( \\left(\\prod_{<k,j>} Z_j\\right)-I \\right)^2   \\right)\n",
    "$$\n",
    "\n",
    "We notice that the last term is not all squared, the sum is left outside the squared factor: "
   ]
  },
  {
   "cell_type": "code",
   "execution_count": 4,
   "metadata": {},
   "outputs": [
    {
     "name": "stdout",
     "output_type": "stream",
     "text": [
      "[0, 0, 0, 1, 1, 2]\n",
      "[1, 2, 3, 2, 3, 3]\n",
      "1\n",
      "0\n"
     ]
    },
    {
     "data": {
      "text/plain": [
       "{2: [0, 1, 3], 3: [0, 1, 2]}"
      ]
     },
     "execution_count": 4,
     "metadata": {},
     "output_type": "execute_result"
    }
   ],
   "source": [
    "# List of [\"I\" * num_nodes], then replace j element in list by Z (nodes connected to intermediate node k) \n",
    "\n",
    "initial_int_term = [\"I\"] * my_graph_class.num_nodes\n",
    "\n",
    "print(my_graph_class.starting_nodes)\n",
    "print(my_graph_class.ending_nodes)\n",
    "print(my_graph_class.starting_node)\n",
    "print(my_graph_class.ending_node)\n",
    "\n",
    "\n",
    "# Set an empty dictionary to store the intermediate nodes connected to which other node in the graph:      \n",
    "node_connected = {}\n",
    "for node,node2 in zip(my_graph_class.starting_nodes, my_graph_class.ending_nodes):\n",
    "    if node != my_graph_class.starting_node and node != my_graph_class.ending_node:\n",
    "        if node not in node_connected:\n",
    "            node_connected[node] = [node2]\n",
    "        else:\n",
    "            node_connected[node].append(node2)\n",
    "    if node2 != my_graph_class.starting_node and node2 != my_graph_class.ending_node:\n",
    "        if node2 not in node_connected:\n",
    "            node_connected[node2] = [node]\n",
    "        else:\n",
    "            node_connected[node2].append(node)\n",
    "node_connected"
   ]
  },
  {
   "cell_type": "markdown",
   "metadata": {},
   "source": [
    "We now have a dictionnary of intermediate nodes in graph with the nodes it is connected to. \n",
    "What is left to do is to Replace in the initial identity term, the corresponding qubits indices to Z instead of I:"
   ]
  },
  {
   "cell_type": "code",
   "execution_count": 12,
   "metadata": {},
   "outputs": [
    {
     "name": "stdout",
     "output_type": "stream",
     "text": [
      "['ZZIZ', 'IZIZ']\n",
      "identity :  [[('ZZIZ', 1), ('IIII', -1)], [('IZIZ', 1), ('IIII', -1)]]\n",
      "Pauli Operators of list elements :  [SparsePauliOp(['ZZIZ', 'IIII'],\n",
      "              coeffs=[ 1.+0.j, -1.+0.j]), SparsePauliOp(['IZIZ', 'IIII'],\n",
      "              coeffs=[ 1.+0.j, -1.+0.j])]\n",
      "Squared each term:  [SparsePauliOp(['IIII', 'ZZIZ', 'ZZIZ', 'IIII'],\n",
      "              coeffs=[ 1.+0.j, -1.+0.j, -1.+0.j,  1.+0.j]), SparsePauliOp(['IIII', 'IZIZ', 'IZIZ', 'IIII'],\n",
      "              coeffs=[ 1.+0.j, -1.+0.j, -1.+0.j,  1.+0.j])]\n"
     ]
    },
    {
     "data": {
      "text/plain": [
       "SparsePauliOp(['IIII', 'ZZIZ', 'ZZIZ', 'IIII', 'IIII', 'IZIZ', 'IZIZ', 'IIII'],\n",
       "              coeffs=[ 1.+0.j, -1.+0.j, -1.+0.j,  1.+0.j,  1.+0.j, -1.+0.j, -1.+0.j,  1.+0.j])"
      ]
     },
     "execution_count": 12,
     "metadata": {},
     "output_type": "execute_result"
    }
   ],
   "source": [
    "# Create the right number of terms for every intermediate node: \n",
    "\n",
    "initial_int_term_list =[ initial_int_term] * len(node_connected)\n",
    "# initial_int_term_list\n",
    "\n",
    "# Replace the position of the list which are values in the dictionary by Z:\n",
    "for pos, node_name in enumerate(node_connected):\n",
    "    for node in node_connected[node_name]:\n",
    "        initial_int_term_list[pos] = list(initial_int_term_list[pos])\n",
    "        initial_int_term_list[pos][node] = \"Z\"\n",
    "        initial_int_term_list[pos] = \"\".join(initial_int_term_list[pos])\n",
    "        initial_int_term_list[pos] = initial_int_term_list[pos]\n",
    "        # reverse the string to have the correct order of the qubits\n",
    "        initial_int_term_list[pos] = initial_int_term_list[pos][::-1]\n",
    "    \n",
    "print(initial_int_term_list)\n",
    "\n",
    "# Now that we have the  product terms, we must add the substraction of the identity operator to each term, elevate each of them to the square, then sum them as a SparsePauliOp:\n",
    "for i in range(len(initial_int_term_list)):\n",
    "    initial_int_term_list[i] = (initial_int_term_list[i], 1)\n",
    "    initial_int_term_list[i] = [initial_int_term_list[i],((\"I\" * my_graph_class.num_nodes, -1))]\n",
    "list_with_identity = initial_int_term_list\n",
    "\n",
    "print('identity : ',list_with_identity)\n",
    "\n",
    "# Create a Pauli Operator with the terms in the list:\n",
    "for i in range(len(list_with_identity)):\n",
    "    list_with_identity[i] = SparsePauliOp.from_list(list_with_identity[i])\n",
    "\n",
    "print('Pauli Operators of list elements : ',list_with_identity)\n",
    "\n",
    "# Square each term :\n",
    "for i in range(len(list_with_identity)):\n",
    "    list_with_identity[i] = list_with_identity[i] @ list_with_identity[i]\n",
    "print('Squared each term: ',list_with_identity)\n",
    "\n",
    "# Sum all the terms:\n",
    "initial_int_term_h = sum(list_with_identity)\n",
    "sum_intermediate_cost_h_terms = initial_int_term_h\n",
    "sum_intermediate_cost_h_terms"
   ]
  }
 ],
 "metadata": {
  "kernelspec": {
   "display_name": "stageT2",
   "language": "python",
   "name": "python3"
  },
  "language_info": {
   "codemirror_mode": {
    "name": "ipython",
    "version": 3
   },
   "file_extension": ".py",
   "mimetype": "text/x-python",
   "name": "python",
   "nbconvert_exporter": "python",
   "pygments_lexer": "ipython3",
   "version": "3.11.5"
  }
 },
 "nbformat": 4,
 "nbformat_minor": 2
}
