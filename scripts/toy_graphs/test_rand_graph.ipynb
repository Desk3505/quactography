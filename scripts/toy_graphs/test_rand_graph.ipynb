{
 "cells": [
  {
   "cell_type": "code",
   "execution_count": null,
   "metadata": {},
   "outputs": [
    {
     "ename": "IndentationError",
     "evalue": "unexpected indent (2340062016.py, line 7)",
     "output_type": "error",
     "traceback": [
      "\u001b[1;36m  Cell \u001b[1;32mIn[2], line 7\u001b[1;36m\u001b[0m\n\u001b[1;33m    if args.edges_matter == True:\u001b[0m\n\u001b[1;37m    ^\u001b[0m\n\u001b[1;31mIndentationError\u001b[0m\u001b[1;31m:\u001b[0m unexpected indent\n"
     ]
    }
   ],
   "source": [
    "import numpy as np \n",
    "\n",
    "edges_matter = True \n",
    "num_nodes = 5 \n",
    "num_edges = 10 \n",
    "\n",
    "# Formule du nombre de edges dans un graphe complet : \n",
    "max_num_edges = ((num_nodes * num_nodes) - num_nodes) / 2\n",
    "    # print(f\"max number of edges: {max_num_edges}\")\n",
    "\n",
    "if edges_matter == True:\n",
    "    num_nodes = int((1 + np.sqrt(1 + 8 * num_edges)) / 2)\n",
    "# print(args.num_nodes)\n",
    "# print(args.num_edges)\n",
    "\n",
    "if edges_matter == False:\n",
    "    if num_edges > max_num_edges:\n",
    "        num_edges = max_num_edges  # type: ignore\n",
    "\n",
    "# print(\"num edges wanted\", args.num_edges)\n",
    "mat = np.zeros((num_nodes, args.num_nodes), dtype=float)\n",
    "for i in range(args.num_nodes):\n",
    "    for j in range(args.num_nodes):\n",
    "        if i is not j:\n",
    "            mat[i, j] = np.random.randint(1, 3 + 1)\n",
    "            mat[j, i] = mat[i, j]\n",
    "\n",
    "num_edges_in_mat = 0\n",
    "mat_flatten = mat.flatten()\n",
    "for i in mat_flatten:\n",
    "    if i != 0:\n",
    "        num_edges_in_mat += 1\n",
    "num_edges_in_mat = num_edges_in_mat / 2\n",
    "num_edges_too_much = num_edges_in_mat - args.num_edges\n",
    "# print(\"num edges to delete:\", num_edges_too_much)\n",
    "\n",
    "# print(mat_flatten)\n",
    "mat_triu = np.triu(mat)\n",
    "mat_triu_flatten = mat_triu.flatten()\n",
    "# print(num_edges_too_much)\n",
    "if num_edges_too_much > 0:\n",
    "    while num_edges_too_much > 0:\n",
    "        for pos, value in enumerate(mat_triu_flatten):\n",
    "            if value != 0:\n",
    "                first_non_zero_pos_upper_mat = pos\n",
    "                break\n",
    "\n",
    "        # print(first_non_zero_pos_upper_mat)\n",
    "        mat_flatten[first_non_zero_pos_upper_mat] = 0\n",
    "        mat_triu_flatten[first_non_zero_pos_upper_mat] = 0\n",
    "        # print(mat_flatten)\n",
    "        mat = mat_flatten.reshape((args.num_nodes, args.num_nodes))\n",
    "\n",
    "        for i in range(args.num_nodes):\n",
    "            for j in range(args.num_nodes):\n",
    "                if i is not j:\n",
    "                    mat[j, i] = mat[i, j]\n",
    "        # print(num_edges_too_much)\n",
    "        num_edges_too_much -= 1\n",
    "\n",
    "# print(num_edges_too_much)\n",
    "# print(mat_triu_flatten)\n",
    "\n",
    "# Remove all-zero columns and rows\n",
    "mat = remove_zero_columns_rows(mat)\n",
    "\n",
    "# Save the graph:\n",
    "save_graph(mat, np.arange(mat.shape[0]), mat.shape, args.out_graph)"
   ]
  }
 ],
 "metadata": {
  "kernelspec": {
   "display_name": "stageT2",
   "language": "python",
   "name": "python3"
  },
  "language_info": {
   "codemirror_mode": {
    "name": "ipython",
    "version": 3
   },
   "file_extension": ".py",
   "mimetype": "text/x-python",
   "name": "python",
   "nbconvert_exporter": "python",
   "pygments_lexer": "ipython3",
   "version": "3.11.5"
  }
 },
 "nbformat": 4,
 "nbformat_minor": 2
}
