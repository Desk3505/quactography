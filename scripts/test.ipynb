{
 "cells": [
  {
   "cell_type": "code",
   "execution_count": 15,
   "metadata": {},
   "outputs": [
    {
     "name": "stdout",
     "output_type": "stream",
     "text": [
      "{'000': 0.087086, '001': 0.302865, '010': 0.002242, '011': 0.001419, '100': 0.01409, '101': 0.056967, '110': 0.299799, '111': 0.235532}\n"
     ]
    },
    {
     "ename": "TypeError",
     "evalue": "reduce() arg 2 must support iteration",
     "output_type": "error",
     "traceback": [
      "\u001b[1;31m---------------------------------------------------------------------------\u001b[0m",
      "\u001b[1;31mTypeError\u001b[0m                                 Traceback (most recent call last)",
      "Cell \u001b[1;32mIn[15], line 19\u001b[0m\n\u001b[0;32m     16\u001b[0m dist,dist_prob, min_cost, h \u001b[38;5;241m=\u001b[39m data2[\u001b[38;5;124m'\u001b[39m\u001b[38;5;124mdist\u001b[39m\u001b[38;5;124m'\u001b[39m],data2[\u001b[38;5;124m'\u001b[39m\u001b[38;5;124mdist_binary_probabilities\u001b[39m\u001b[38;5;124m'\u001b[39m], data2[\u001b[38;5;124m'\u001b[39m\u001b[38;5;124mmin_cost\u001b[39m\u001b[38;5;124m'\u001b[39m], data2[\u001b[38;5;124m'\u001b[39m\u001b[38;5;124mhamiltonian\u001b[39m\u001b[38;5;124m'\u001b[39m]\n\u001b[0;32m     17\u001b[0m \u001b[38;5;28mprint\u001b[39m(dist_prob)\n\u001b[1;32m---> 19\u001b[0m \u001b[43mplot_distribution\u001b[49m\u001b[43m(\u001b[49m\n\u001b[0;32m     20\u001b[0m \u001b[43m        \u001b[49m\u001b[43mdist_prob\u001b[49m\u001b[43m,\u001b[49m\n\u001b[0;32m     21\u001b[0m \u001b[43m        \u001b[49m\u001b[43mfigsize\u001b[49m\u001b[38;5;241;43m=\u001b[39;49m\u001b[43m(\u001b[49m\u001b[38;5;241;43m10\u001b[39;49m\u001b[43m,\u001b[49m\u001b[43m \u001b[49m\u001b[38;5;241;43m8\u001b[39;49m\u001b[43m)\u001b[49m\u001b[43m,\u001b[49m\u001b[43m  \u001b[49m\u001b[38;5;66;43;03m# type: ignore\u001b[39;49;00m\n\u001b[0;32m     22\u001b[0m \u001b[43m        \u001b[49m\u001b[43mtitle\u001b[49m\u001b[38;5;241;43m=\u001b[39;49m\u001b[38;5;124;43m\"\u001b[39;49m\u001b[38;5;124;43mDistribution of probabilities\u001b[39;49m\u001b[38;5;124;43m\"\u001b[39;49m\u001b[43m,\u001b[49m\u001b[43m  \u001b[49m\u001b[38;5;66;43;03m# type: ignore\u001b[39;49;00m\n\u001b[0;32m     23\u001b[0m \u001b[43m        \u001b[49m\u001b[43mcolor\u001b[49m\u001b[38;5;241;43m=\u001b[39;49m\u001b[38;5;124;43m\"\u001b[39;49m\u001b[38;5;124;43mpink\u001b[39;49m\u001b[38;5;124;43m\"\u001b[39;49m\u001b[43m,\u001b[49m\u001b[43m  \u001b[49m\u001b[38;5;66;43;03m# type: ignore\u001b[39;49;00m\n\u001b[0;32m     24\u001b[0m \u001b[43m    \u001b[49m\u001b[43m)\u001b[49m\n",
      "File \u001b[1;32mc:\\Users\\harsh\\.virtualenv\\quactography\\lib\\site-packages\\qiskit\\visualization\\counts_visualization.py:257\u001b[0m, in \u001b[0;36mplot_distribution\u001b[1;34m(data, figsize, color, number_to_keep, sort, target_string, legend, bar_labels, title, ax, filename)\u001b[0m\n\u001b[0;32m    177\u001b[0m \u001b[38;5;28;01mdef\u001b[39;00m \u001b[38;5;21mplot_distribution\u001b[39m(\n\u001b[0;32m    178\u001b[0m     data,\n\u001b[0;32m    179\u001b[0m     figsize\u001b[38;5;241m=\u001b[39m(\u001b[38;5;241m7\u001b[39m, \u001b[38;5;241m5\u001b[39m),\n\u001b[1;32m   (...)\u001b[0m\n\u001b[0;32m    188\u001b[0m     filename\u001b[38;5;241m=\u001b[39m\u001b[38;5;28;01mNone\u001b[39;00m,\n\u001b[0;32m    189\u001b[0m ):\n\u001b[0;32m    190\u001b[0m \u001b[38;5;250m    \u001b[39m\u001b[38;5;124;03m\"\"\"Plot a distribution from input sampled data.\u001b[39;00m\n\u001b[0;32m    191\u001b[0m \n\u001b[0;32m    192\u001b[0m \u001b[38;5;124;03m    Args:\u001b[39;00m\n\u001b[1;32m   (...)\u001b[0m\n\u001b[0;32m    255\u001b[0m \n\u001b[0;32m    256\u001b[0m \u001b[38;5;124;03m    \"\"\"\u001b[39;00m\n\u001b[1;32m--> 257\u001b[0m     \u001b[38;5;28;01mreturn\u001b[39;00m \u001b[43m_plotting_core\u001b[49m\u001b[43m(\u001b[49m\n\u001b[0;32m    258\u001b[0m \u001b[43m        \u001b[49m\u001b[43mdata\u001b[49m\u001b[43m,\u001b[49m\n\u001b[0;32m    259\u001b[0m \u001b[43m        \u001b[49m\u001b[43mfigsize\u001b[49m\u001b[43m,\u001b[49m\n\u001b[0;32m    260\u001b[0m \u001b[43m        \u001b[49m\u001b[43mcolor\u001b[49m\u001b[43m,\u001b[49m\n\u001b[0;32m    261\u001b[0m \u001b[43m        \u001b[49m\u001b[43mnumber_to_keep\u001b[49m\u001b[43m,\u001b[49m\n\u001b[0;32m    262\u001b[0m \u001b[43m        \u001b[49m\u001b[43msort\u001b[49m\u001b[43m,\u001b[49m\n\u001b[0;32m    263\u001b[0m \u001b[43m        \u001b[49m\u001b[43mtarget_string\u001b[49m\u001b[43m,\u001b[49m\n\u001b[0;32m    264\u001b[0m \u001b[43m        \u001b[49m\u001b[43mlegend\u001b[49m\u001b[43m,\u001b[49m\n\u001b[0;32m    265\u001b[0m \u001b[43m        \u001b[49m\u001b[43mbar_labels\u001b[49m\u001b[43m,\u001b[49m\n\u001b[0;32m    266\u001b[0m \u001b[43m        \u001b[49m\u001b[43mtitle\u001b[49m\u001b[43m,\u001b[49m\n\u001b[0;32m    267\u001b[0m \u001b[43m        \u001b[49m\u001b[43max\u001b[49m\u001b[43m,\u001b[49m\n\u001b[0;32m    268\u001b[0m \u001b[43m        \u001b[49m\u001b[43mfilename\u001b[49m\u001b[43m,\u001b[49m\n\u001b[0;32m    269\u001b[0m \u001b[43m        \u001b[49m\u001b[43mkind\u001b[49m\u001b[38;5;241;43m=\u001b[39;49m\u001b[38;5;124;43m\"\u001b[39;49m\u001b[38;5;124;43mdistribution\u001b[39;49m\u001b[38;5;124;43m\"\u001b[39;49m\u001b[43m,\u001b[49m\n\u001b[0;32m    270\u001b[0m \u001b[43m    \u001b[49m\u001b[43m)\u001b[49m\n",
      "File \u001b[1;32mc:\\Users\\harsh\\.virtualenv\\quactography\\lib\\site-packages\\qiskit\\utils\\lazy_tester.py:165\u001b[0m, in \u001b[0;36mLazyDependencyManager.require_in_call.<locals>.out\u001b[1;34m(*args, **kwargs)\u001b[0m\n\u001b[0;32m    162\u001b[0m \u001b[38;5;129m@functools\u001b[39m\u001b[38;5;241m.\u001b[39mwraps(function)\n\u001b[0;32m    163\u001b[0m \u001b[38;5;28;01mdef\u001b[39;00m \u001b[38;5;21mout\u001b[39m(\u001b[38;5;241m*\u001b[39margs, \u001b[38;5;241m*\u001b[39m\u001b[38;5;241m*\u001b[39mkwargs):\n\u001b[0;32m    164\u001b[0m     \u001b[38;5;28mself\u001b[39m\u001b[38;5;241m.\u001b[39mrequire_now(feature)\n\u001b[1;32m--> 165\u001b[0m     \u001b[38;5;28;01mreturn\u001b[39;00m function(\u001b[38;5;241m*\u001b[39margs, \u001b[38;5;241m*\u001b[39m\u001b[38;5;241m*\u001b[39mkwargs)\n",
      "File \u001b[1;32mc:\\Users\\harsh\\.virtualenv\\quactography\\lib\\site-packages\\qiskit\\visualization\\counts_visualization.py:320\u001b[0m, in \u001b[0;36m_plotting_core\u001b[1;34m(data, figsize, color, number_to_keep, sort, target_string, legend, bar_labels, title, ax, filename, kind)\u001b[0m\n\u001b[0;32m    317\u001b[0m \u001b[38;5;28;01melse\u001b[39;00m:\n\u001b[0;32m    318\u001b[0m     fig \u001b[38;5;241m=\u001b[39m \u001b[38;5;28;01mNone\u001b[39;00m\n\u001b[1;32m--> 320\u001b[0m labels \u001b[38;5;241m=\u001b[39m \u001b[38;5;28msorted\u001b[39m(\u001b[43mfunctools\u001b[49m\u001b[38;5;241;43m.\u001b[39;49m\u001b[43mreduce\u001b[49m\u001b[43m(\u001b[49m\u001b[38;5;28;43;01mlambda\u001b[39;49;00m\u001b[43m \u001b[49m\u001b[43mx\u001b[49m\u001b[43m,\u001b[49m\u001b[43m \u001b[49m\u001b[43my\u001b[49m\u001b[43m:\u001b[49m\u001b[43m \u001b[49m\u001b[43mx\u001b[49m\u001b[38;5;241;43m.\u001b[39;49m\u001b[43munion\u001b[49m\u001b[43m(\u001b[49m\u001b[43my\u001b[49m\u001b[38;5;241;43m.\u001b[39;49m\u001b[43mkeys\u001b[49m\u001b[43m(\u001b[49m\u001b[43m)\u001b[49m\u001b[43m)\u001b[49m\u001b[43m,\u001b[49m\u001b[43m \u001b[49m\u001b[43mdata\u001b[49m\u001b[43m,\u001b[49m\u001b[43m \u001b[49m\u001b[38;5;28;43mset\u001b[39;49m\u001b[43m(\u001b[49m\u001b[43m)\u001b[49m\u001b[43m)\u001b[49m)\n\u001b[0;32m    321\u001b[0m \u001b[38;5;28;01mif\u001b[39;00m number_to_keep \u001b[38;5;129;01mis\u001b[39;00m \u001b[38;5;129;01mnot\u001b[39;00m \u001b[38;5;28;01mNone\u001b[39;00m:\n\u001b[0;32m    322\u001b[0m     labels\u001b[38;5;241m.\u001b[39mappend(\u001b[38;5;124m\"\u001b[39m\u001b[38;5;124mrest\u001b[39m\u001b[38;5;124m\"\u001b[39m)\n",
      "\u001b[1;31mTypeError\u001b[0m: reduce() arg 2 must support iteration"
     ]
    },
    {
     "data": {
      "image/png": "[encoded data removed]",
      "text/plain": [
       "<Figure size 1000x800 with 1 Axes>"
      ]
     },
     "metadata": {},
     "output_type": "display_data"
    }
   ],
   "source": [
    "from quactography.adj_matrix.io import load_graph\n",
    "from qiskit.visualization import plot_distribution  # type: ignore\n",
    "import numpy as np\n",
    "import matplotlib.pyplot as plt\n",
    "import nibabel as nib\n",
    "# Plot the adjacency matrix of a graph\n",
    "# Load outputgt_fiber.npz :\n",
    "# Read npz file:\n",
    "# data = load_graph('outputgr_fiber.npz')\n",
    "# data1 = load_graph('ish.npz')\n",
    "\n",
    "data2 = np.load('test_out_1.npz',allow_pickle=True)\n",
    "# print(data)\n",
    "\n",
    "# See data2: \n",
    "dist,dist_prob, min_cost, h = data2['dist'],data2['dist_binary_probabilities'], data2['min_cost'], data2['hamiltonian']\n",
    "print(dist_prob)\n",
    "\n",
    "plot_distribution(\n",
    "        dist_prob,\n",
    "        figsize=(10, 8),  # type: ignore\n",
    "        title=\"Distribution of probabilities\",  # type: ignore\n",
    "        color=\"pink\",  # type: ignore\n",
    "    )"
   ]
  },
  {
   "cell_type": "code",
   "execution_count": null,
   "metadata": {},
   "outputs": [
    {
     "ename": "NameError",
     "evalue": "name 'data' is not defined",
     "output_type": "error",
     "traceback": [
      "\u001b[1;31m---------------------------------------------------------------------------\u001b[0m",
      "\u001b[1;31mNameError\u001b[0m                                 Traceback (most recent call last)",
      "Cell \u001b[1;32mIn[2], line 7\u001b[0m\n\u001b[0;32m      2\u001b[0m \u001b[38;5;28;01mimport\u001b[39;00m \u001b[38;5;21;01margparse\u001b[39;00m \n\u001b[0;32m      3\u001b[0m \u001b[38;5;66;03m# adj_matrix_from_csv = pd.DataFrame(data1['adjacency_matrix'])\u001b[39;00m\n\u001b[0;32m      4\u001b[0m \u001b[38;5;66;03m# adj_matrix_from_csv\u001b[39;00m\n\u001b[1;32m----> 7\u001b[0m weighted_graph, node_indices, vol_dim \u001b[38;5;241m=\u001b[39m \u001b[43mdata\u001b[49m\n\u001b[0;32m      8\u001b[0m x, y \u001b[38;5;241m=\u001b[39m np\u001b[38;5;241m.\u001b[39munravel_index(node_indices, vol_dim)\n\u001b[0;32m      9\u001b[0m \u001b[38;5;28mprint\u001b[39m(\u001b[38;5;124m\"\u001b[39m\u001b[38;5;124mx\u001b[39m\u001b[38;5;124m\"\u001b[39m, x)\n",
      "\u001b[1;31mNameError\u001b[0m: name 'data' is not defined"
     ]
    }
   ],
   "source": [
    "import pandas as pd \n",
    "import argparse \n",
    "# adj_matrix_from_csv = pd.DataFrame(data1['adjacency_matrix'])\n",
    "# adj_matrix_from_csv\n",
    "\n",
    "\n",
    "weighted_graph, node_indices, vol_dim = data\n",
    "x, y = np.unravel_index(node_indices, vol_dim)\n",
    "print(\"x\", x)\n",
    "print(\"y\", y)\n",
    "print(\"node_indices\", node_indices)\n",
    "print(\"vol_dim\", vol_dim)\n",
    "print(\"weighted_graph\", weighted_graph)\n",
    "\n",
    "weighted_graph = np.triu(weighted_graph)\n",
    "print(\"weighted_graph\", weighted_graph)\n",
    "\n",
    "# draw the graph\n",
    "for it, node_row in enumerate(weighted_graph):\n",
    "    nb_adj = np.count_nonzero(node_row)\n",
    "    if nb_adj > 0:\n",
    "        w_all = node_row[node_row > 0]\n",
    "        start_x, start_y = x[it], y[it]\n",
    "        end_x = x[node_row > 0]\n",
    "        end_y = y[node_row > 0]\n",
    "        for vert_id in range(nb_adj):\n",
    "            w = w_all[vert_id]\n",
    "            alpha = np.clip(w * 0.9 + 0.1, 0.0, 1.0)\n",
    "            plt.plot(\n",
    "                [start_x, end_x[vert_id]],\n",
    "                [start_y, end_y[vert_id]],\n",
    "                color=\"black\",\n",
    "                alpha=alpha,\n",
    "            )\n",
    "\n",
    "plt.scatter(x, y)\n",
    "plt.show()"
   ]
  },
  {
   "cell_type": "code",
   "execution_count": null,
   "metadata": {},
   "outputs": [
    {
     "name": "stdout",
     "output_type": "stream",
     "text": [
      "x [0 0 0 0 0 0 0]\n",
      "y [0 1 2 3 4 5 6]\n",
      "node_indices [0 1 2 3 4 5 6]\n",
      "vol_dim [7 7]\n",
      "weighted_graph [[0. 1. 3. 2. 2. 1. 1.]\n",
      " [1. 0. 3. 1. 2. 2. 1.]\n",
      " [3. 3. 0. 3. 3. 3. 3.]\n",
      " [2. 1. 3. 0. 1. 3. 3.]\n",
      " [2. 2. 3. 1. 0. 3. 1.]\n",
      " [1. 2. 3. 3. 3. 0. 2.]\n",
      " [1. 1. 3. 3. 1. 2. 0.]]\n",
      "weighted_graph [[0. 1. 3. 2. 2. 1. 1.]\n",
      " [0. 0. 3. 1. 2. 2. 1.]\n",
      " [0. 0. 0. 3. 3. 3. 3.]\n",
      " [0. 0. 0. 0. 1. 3. 3.]\n",
      " [0. 0. 0. 0. 0. 3. 1.]\n",
      " [0. 0. 0. 0. 0. 0. 2.]\n",
      " [0. 0. 0. 0. 0. 0. 0.]]\n"
     ]
    },
    {
     "data": {
      "image/png": "[encoded data removed]",
      "text/plain": [
       "<Figure size 640x480 with 1 Axes>"
      ]
     },
     "metadata": {},
     "output_type": "display_data"
    }
   ],
   "source": [
    "import pandas as pd \n",
    "import argparse \n",
    "# adj_matrix_from_csv = pd.DataFrame(data1['adjacency_matrix'])\n",
    "# adj_matrix_from_csv\n",
    "\n",
    "\n",
    "weighted_graph, node_indices, vol_dim = data1\n",
    "x, y = np.unravel_index(node_indices, vol_dim)\n",
    "print(\"x\", x)\n",
    "print(\"y\", y)\n",
    "print(\"node_indices\", node_indices)\n",
    "print(\"vol_dim\", vol_dim)\n",
    "print(\"weighted_graph\", weighted_graph)\n",
    "\n",
    "weighted_graph = np.triu(weighted_graph)\n",
    "print(\"weighted_graph\", weighted_graph)\n",
    "\n",
    "# draw the graph\n",
    "for it, node_row in enumerate(weighted_graph):\n",
    "    nb_adj = np.count_nonzero(node_row)\n",
    "    if nb_adj > 0:\n",
    "        w_all = node_row[node_row > 0]\n",
    "        start_x, start_y = x[it], y[it]\n",
    "        end_x = x[node_row > 0]\n",
    "        end_y = y[node_row > 0]\n",
    "        for vert_id in range(nb_adj):\n",
    "            w = w_all[vert_id]\n",
    "            alpha = np.clip(w * 0.9 + 0.1, 0.0, 1.0)\n",
    "            plt.plot(\n",
    "                [start_x, end_x[vert_id]],\n",
    "                [start_y, end_y[vert_id]],\n",
    "                color=\"black\",\n",
    "                alpha=alpha,\n",
    "            )\n",
    "\n",
    "plt.scatter(x, y)\n",
    "plt.show()"
   ]
  }
 ],
 "metadata": {
  "kernelspec": {
   "display_name": "quactography",
   "language": "python",
   "name": "python3"
  },
  "language_info": {
   "codemirror_mode": {
    "name": "ipython",
    "version": 3
   },
   "file_extension": ".py",
   "mimetype": "text/x-python",
   "name": "python",
   "nbconvert_exporter": "python",
   "pygments_lexer": "ipython3",
   "version": "3.10.0"
  }
 },
 "nbformat": 4,
 "nbformat_minor": 2
}
