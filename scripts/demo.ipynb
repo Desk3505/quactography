{
 "cells": [
  {
   "cell_type": "markdown",
   "metadata": {},
   "source": [
    "### Créer la matrice d'adjacence:\n",
    "\n",
    "Avec un masque et des valeurs de tenseurs de diffusion"
   ]
  },
  {
   "cell_type": "code",
   "execution_count": 1,
   "metadata": {},
   "outputs": [],
   "source": [
    "!python build_adj_matrix.py ../data/wm.nii.gz ../data/fodf.nii.gz graph"
   ]
  },
  {
   "cell_type": "markdown",
   "metadata": {},
   "source": [
    "### Afficher le graphe: "
   ]
  },
  {
   "cell_type": "code",
   "execution_count": 10,
   "metadata": {},
   "outputs": [
    {
     "name": "stderr",
     "output_type": "stream",
     "text": [
      "Traceback (most recent call last):\n",
      "  File \"c:\\Users\\harsh\\quactography\\scripts\\draw_adj_matrix.py\", line 52, in <module>\n",
      "    main()\n",
      "  File \"c:\\Users\\harsh\\quactography\\scripts\\draw_adj_matrix.py\", line 24, in main\n",
      "    weighted_graph, node_indices, vol_dim = load_graph(args.in_graph)\n",
      "  File \"c:\\users\\harsh\\quactography\\quactography\\adj_matrix\\io.py\", line 12, in load_graph\n",
      "    npzfile = np.load(in_file)\n",
      "  File \"c:\\Users\\harsh\\.virtualenv\\quactography\\lib\\site-packages\\numpy\\lib\\npyio.py\", line 405, in load\n",
      "    fid = stack.enter_context(open(os_fspath(file), \"rb\"))\n",
      "FileNotFoundError: [Errno 2] No such file or directory: 'graph.npz'\n"
     ]
    }
   ],
   "source": [
    "from IPython.display import Image, display  # type: ignore\n",
    "!python draw_adj_matrix.py graph.npz\n",
    "display(Image(filename='graph_adj_mat.png'))\n"
   ]
  },
  {
   "cell_type": "markdown",
   "metadata": {},
   "source": [
    "### Filtrer le graphe pour avoir uniquement les noeuds fortement connectés:"
   ]
  },
  {
   "cell_type": "code",
   "execution_count": 3,
   "metadata": {},
   "outputs": [],
   "source": [
    "!python build_adj_matrix.py ../data/wm.nii.gz ../data/fodf.nii.gz graph --threshold 0.4\n"
   ]
  },
  {
   "cell_type": "code",
   "execution_count": 11,
   "metadata": {},
   "outputs": [
    {
     "name": "stderr",
     "output_type": "stream",
     "text": [
      "Traceback (most recent call last):\n",
      "  File \"c:\\Users\\harsh\\quactography\\scripts\\draw_adj_matrix.py\", line 52, in <module>\n",
      "    main()\n",
      "  File \"c:\\Users\\harsh\\quactography\\scripts\\draw_adj_matrix.py\", line 24, in main\n",
      "    weighted_graph, node_indices, vol_dim = load_graph(args.in_graph)\n",
      "  File \"c:\\users\\harsh\\quactography\\quactography\\adj_matrix\\io.py\", line 12, in load_graph\n",
      "    npzfile = np.load(in_file)\n",
      "  File \"c:\\Users\\harsh\\.virtualenv\\quactography\\lib\\site-packages\\numpy\\lib\\npyio.py\", line 405, in load\n",
      "    fid = stack.enter_context(open(os_fspath(file), \"rb\"))\n",
      "FileNotFoundError: [Errno 2] No such file or directory: 'graph.npz'\n"
     ]
    }
   ],
   "source": [
    "!python draw_adj_matrix.py graph.npz\n",
    "display(Image(filename='graph_adj_mat.png'))"
   ]
  },
  {
   "cell_type": "markdown",
   "metadata": {},
   "source": [
    "### Créer une matrice d'adjacence aléatoire:"
   ]
  },
  {
   "cell_type": "code",
   "execution_count": 5,
   "metadata": {},
   "outputs": [
    {
     "name": "stdout",
     "output_type": "stream",
     "text": [
      "4\n",
      "6\n"
     ]
    }
   ],
   "source": [
    "!python build_random_adj_matrix.py 5 6 True rand_graph"
   ]
  },
  {
   "cell_type": "code",
   "execution_count": 12,
   "metadata": {},
   "outputs": [
    {
     "name": "stderr",
     "output_type": "stream",
     "text": [
      "Traceback (most recent call last):\n",
      "  File \"c:\\Users\\harsh\\quactography\\scripts\\draw_random_adj_matrix.py\", line 49, in <module>\n",
      "    main()\n",
      "  File \"c:\\Users\\harsh\\quactography\\scripts\\draw_random_adj_matrix.py\", line 29, in main\n",
      "    weighted_graph, node_indices, _ = load_graph(args.in_graph + \".npz\")\n",
      "  File \"c:\\users\\harsh\\quactography\\quactography\\adj_matrix\\io.py\", line 12, in load_graph\n",
      "    npzfile = np.load(in_file)\n",
      "  File \"c:\\Users\\harsh\\.virtualenv\\quactography\\lib\\site-packages\\numpy\\lib\\npyio.py\", line 405, in load\n",
      "    fid = stack.enter_context(open(os_fspath(file), \"rb\"))\n",
      "FileNotFoundError: [Errno 2] No such file or directory: 'rand_graph.npz'\n"
     ]
    }
   ],
   "source": [
    "!python draw_random_adj_matrix.py rand_graph rand_graph_visu\n",
    "display(Image(filename='rand_graph_visu.png'))"
   ]
  },
  {
   "cell_type": "markdown",
   "metadata": {},
   "source": [
    "### Lancer l'algorithme de qaoa pour maximiser la valeur absolue des poids: \n",
    "\n",
    "nom de la matrice d'adjacence, noeud départ, noeud fin, nom du fichier d'infos, valeurs de la constante de pénalité, nombre de répétitions de QAOA, nombre de processeurs "
   ]
  },
  {
   "cell_type": "code",
   "execution_count": 7,
   "metadata": {},
   "outputs": [
    {
     "name": "stdout",
     "output_type": "stream",
     "text": [
      "------------------------MULTIPROCESS SOLVER FINISHED-------------------------------\n"
     ]
    }
   ],
   "source": [
    "!python find_max_intensity_diffusion_path.py rand_graph 1 0 qaoa_solver_infos --alphas 1 2 3  --reps 1 --multiprocess -npr 2"
   ]
  },
  {
   "cell_type": "markdown",
   "metadata": {},
   "source": [
    "### Visualiser les chemins qui maximise la valeur absolue des poids:"
   ]
  },
  {
   "cell_type": "code",
   "execution_count": 13,
   "metadata": {},
   "outputs": [
    {
     "name": "stderr",
     "output_type": "stream",
     "text": [
      "Traceback (most recent call last):\n",
      "  File \"c:\\Users\\harsh\\quactography\\scripts\\plot_distribution_probabilities.py\", line 40, in <module>\n",
      "    main()\n",
      "  File \"c:\\Users\\harsh\\quactography\\scripts\\plot_distribution_probabilities.py\", line 32, in main\n",
      "    plot_distribution_of_probabilities(\n",
      "  File \"c:\\users\\harsh\\quactography\\quactography\\visu\\dist_prob.py\", line 12, in plot_distribution_of_probabilities\n",
      "    _, dist_binary_prob, min_cost, h, _, _ = load_optimization_results(in_file)\n",
      "  File \"c:\\users\\harsh\\quactography\\quactography\\solver\\io.py\", line 19, in load_optimization_results\n",
      "    data = np.load(in_file, allow_pickle=True)\n",
      "  File \"c:\\Users\\harsh\\.virtualenv\\quactography\\lib\\site-packages\\numpy\\lib\\npyio.py\", line 405, in load\n",
      "    fid = stack.enter_context(open(os_fspath(file), \"rb\"))\n",
      "FileNotFoundError: [Errno 2] No such file or directory: 'qaoa_solver_infos_alpha_1.npz'\n"
     ]
    }
   ],
   "source": [
    "!python plot_distribution_probabilities.py qaoa_solver_infos_alpha_1.npz qaoa_solver_infos_alpha_2.npz qaoa_solver_infos_alpha_3.npz visu_total_dist visu_selected_dist\n",
    "display(Image(filename='visu_selected_dist_0.png'))\n",
    "display(Image(filename=r'..\\output\\img\\visu_tout_alpha_4.png'))"
   ]
  },
  {
   "cell_type": "markdown",
   "metadata": {},
   "source": [
    "### Visualiser les chemins optimaux:"
   ]
  },
  {
   "cell_type": "code",
   "execution_count": 14,
   "metadata": {},
   "outputs": [
    {
     "name": "stderr",
     "output_type": "stream",
     "text": [
      "Traceback (most recent call last):\n",
      "  File \"c:\\Users\\harsh\\quactography\\scripts\\plot_optimal_paths.py\", line 36, in <module>\n",
      "    main()\n",
      "  File \"c:\\Users\\harsh\\quactography\\scripts\\plot_optimal_paths.py\", line 28, in main\n",
      "    visualize_optimal_paths(\n",
      "  File \"c:\\users\\harsh\\quactography\\quactography\\visu\\optimal_paths.py\", line 26, in visualize_optimal_paths\n",
      "    _, _, min_cost, h, bin_str, reps = load_optimization_results(in_file)\n",
      "  File \"c:\\users\\harsh\\quactography\\quactography\\solver\\io.py\", line 19, in load_optimization_results\n",
      "    data = np.load(in_file, allow_pickle=True)\n",
      "  File \"c:\\Users\\harsh\\.virtualenv\\quactography\\lib\\site-packages\\numpy\\lib\\npyio.py\", line 405, in load\n",
      "    fid = stack.enter_context(open(os_fspath(file), \"rb\"))\n",
      "FileNotFoundError: [Errno 2] No such file or directory: 'qaoa_solver_infos_alpha_1.npz'\n"
     ]
    }
   ],
   "source": [
    "!python plot_optimal_paths.py graph qaoa_solver_infos_alpha_1.npz qaoa_solver_infos_alpha_2.npz qaoa_solver_infos_alpha_3.npz opt_paths\n",
    "display(Image(filename='opt_paths_0_alpha_1.00.png'))\n",
    "display(Image(filename='opt_paths_1_alpha_2.00.png'))\n",
    "display(Image(filename='opt_paths_2_alpha_3.00.png'))"
   ]
  }
 ],
 "metadata": {
  "kernelspec": {
   "display_name": "quactography",
   "language": "python",
   "name": "python3"
  },
  "language_info": {
   "codemirror_mode": {
    "name": "ipython",
    "version": 3
   },
   "file_extension": ".py",
   "mimetype": "text/x-python",
   "name": "python",
   "nbconvert_exporter": "python",
   "pygments_lexer": "ipython3",
   "version": "3.10.0"
  }
 },
 "nbformat": 4,
 "nbformat_minor": 2
}
